{
 "cells": [
  {
   "cell_type": "code",
   "execution_count": 1,
   "metadata": {
    "executionInfo": {
     "elapsed": 2765,
     "status": "ok",
     "timestamp": 1735918110506,
     "user": {
      "displayName": "Akarsh",
      "userId": "02423875687432954389"
     },
     "user_tz": -330
    },
    "id": "n8rWa4DA21_y"
   },
   "outputs": [],
   "source": [
    "import numpy as np\n",
    "import pandas as pd\n",
    "import matplotlib.pyplot as plt\n",
    "from mlibpy import linear_regression as lnr\n",
    "from mlibpy import polynomial_regression as pr\n",
    "from mlibpy.logistic_regression import *"
   ]
  },
  {
   "cell_type": "markdown",
   "metadata": {
    "id": "Yufh_ZsD3EiB"
   },
   "source": [
    "# Training Dataset"
   ]
  },
  {
   "cell_type": "code",
   "execution_count": 2,
   "metadata": {
    "colab": {
     "base_uri": "https://localhost:8080/",
     "height": 255
    },
    "executionInfo": {
     "elapsed": 1385,
     "status": "ok",
     "timestamp": 1735918111887,
     "user": {
      "displayName": "Akarsh",
      "userId": "02423875687432954389"
     },
     "user_tz": -330
    },
    "id": "sNqLhoLn24ji",
    "outputId": "c62ecc81-9aca-4eec-d468-c70ee4888128"
   },
   "outputs": [
    {
     "data": {
      "text/html": [
       "<div>\n",
       "<style scoped>\n",
       "    .dataframe tbody tr th:only-of-type {\n",
       "        vertical-align: middle;\n",
       "    }\n",
       "\n",
       "    .dataframe tbody tr th {\n",
       "        vertical-align: top;\n",
       "    }\n",
       "\n",
       "    .dataframe thead th {\n",
       "        text-align: right;\n",
       "    }\n",
       "</style>\n",
       "<table border=\"1\" class=\"dataframe\">\n",
       "  <thead>\n",
       "    <tr style=\"text-align: right;\">\n",
       "      <th></th>\n",
       "      <th>ID</th>\n",
       "      <th>Feature_1</th>\n",
       "      <th>Feature_2</th>\n",
       "      <th>Feature_3</th>\n",
       "      <th>Feature_4</th>\n",
       "      <th>Feature_5</th>\n",
       "      <th>Feature_6</th>\n",
       "      <th>Feature_7</th>\n",
       "      <th>Feature_8</th>\n",
       "      <th>Feature_9</th>\n",
       "      <th>...</th>\n",
       "      <th>Feature_12</th>\n",
       "      <th>Feature_13</th>\n",
       "      <th>Feature_14</th>\n",
       "      <th>Feature_15</th>\n",
       "      <th>Feature_16</th>\n",
       "      <th>Feature_17</th>\n",
       "      <th>Feature_18</th>\n",
       "      <th>Feature_19</th>\n",
       "      <th>Feature_20</th>\n",
       "      <th>Class</th>\n",
       "    </tr>\n",
       "  </thead>\n",
       "  <tbody>\n",
       "    <tr>\n",
       "      <th>0</th>\n",
       "      <td>1</td>\n",
       "      <td>-36.963099</td>\n",
       "      <td>-15.014703</td>\n",
       "      <td>87.100435</td>\n",
       "      <td>101.523360</td>\n",
       "      <td>82.106571</td>\n",
       "      <td>-10.956180</td>\n",
       "      <td>0.592326</td>\n",
       "      <td>-51.919028</td>\n",
       "      <td>-90.650434</td>\n",
       "      <td>...</td>\n",
       "      <td>-81.183744</td>\n",
       "      <td>13.101921</td>\n",
       "      <td>18.051450</td>\n",
       "      <td>-40.606288</td>\n",
       "      <td>-39.697053</td>\n",
       "      <td>-13.870802</td>\n",
       "      <td>173.722987</td>\n",
       "      <td>-17.349169</td>\n",
       "      <td>-82.550844</td>\n",
       "      <td>0</td>\n",
       "    </tr>\n",
       "    <tr>\n",
       "      <th>1</th>\n",
       "      <td>2</td>\n",
       "      <td>-43.715674</td>\n",
       "      <td>18.847116</td>\n",
       "      <td>89.543406</td>\n",
       "      <td>-71.319314</td>\n",
       "      <td>35.597052</td>\n",
       "      <td>126.358570</td>\n",
       "      <td>-29.837495</td>\n",
       "      <td>-40.473764</td>\n",
       "      <td>-94.079238</td>\n",
       "      <td>...</td>\n",
       "      <td>-37.848260</td>\n",
       "      <td>7.457352</td>\n",
       "      <td>-77.420742</td>\n",
       "      <td>53.773718</td>\n",
       "      <td>-100.124294</td>\n",
       "      <td>9.870650</td>\n",
       "      <td>11.592519</td>\n",
       "      <td>-106.123605</td>\n",
       "      <td>-92.796421</td>\n",
       "      <td>1</td>\n",
       "    </tr>\n",
       "    <tr>\n",
       "      <th>2</th>\n",
       "      <td>3</td>\n",
       "      <td>-30.737550</td>\n",
       "      <td>-63.729643</td>\n",
       "      <td>106.081332</td>\n",
       "      <td>81.773948</td>\n",
       "      <td>112.769976</td>\n",
       "      <td>-12.425351</td>\n",
       "      <td>-29.913286</td>\n",
       "      <td>-41.771200</td>\n",
       "      <td>16.424511</td>\n",
       "      <td>...</td>\n",
       "      <td>-106.610289</td>\n",
       "      <td>5.930143</td>\n",
       "      <td>-30.177083</td>\n",
       "      <td>-138.969234</td>\n",
       "      <td>-56.054914</td>\n",
       "      <td>-12.790661</td>\n",
       "      <td>164.832498</td>\n",
       "      <td>-37.412902</td>\n",
       "      <td>-85.441150</td>\n",
       "      <td>0</td>\n",
       "    </tr>\n",
       "    <tr>\n",
       "      <th>3</th>\n",
       "      <td>4</td>\n",
       "      <td>-27.674757</td>\n",
       "      <td>-118.869495</td>\n",
       "      <td>135.605213</td>\n",
       "      <td>99.130189</td>\n",
       "      <td>50.947548</td>\n",
       "      <td>-63.704785</td>\n",
       "      <td>-7.353057</td>\n",
       "      <td>-58.140229</td>\n",
       "      <td>-80.209027</td>\n",
       "      <td>...</td>\n",
       "      <td>-149.056417</td>\n",
       "      <td>3.893419</td>\n",
       "      <td>-74.100869</td>\n",
       "      <td>-47.659832</td>\n",
       "      <td>-48.209817</td>\n",
       "      <td>-36.264323</td>\n",
       "      <td>59.001922</td>\n",
       "      <td>-59.064134</td>\n",
       "      <td>-78.538639</td>\n",
       "      <td>0</td>\n",
       "    </tr>\n",
       "    <tr>\n",
       "      <th>4</th>\n",
       "      <td>5</td>\n",
       "      <td>-28.654141</td>\n",
       "      <td>-77.746597</td>\n",
       "      <td>85.215365</td>\n",
       "      <td>50.374774</td>\n",
       "      <td>79.763207</td>\n",
       "      <td>-32.703048</td>\n",
       "      <td>-28.152031</td>\n",
       "      <td>-63.994794</td>\n",
       "      <td>-153.566789</td>\n",
       "      <td>...</td>\n",
       "      <td>-102.731465</td>\n",
       "      <td>11.160205</td>\n",
       "      <td>-13.395073</td>\n",
       "      <td>9.416237</td>\n",
       "      <td>2.649524</td>\n",
       "      <td>-43.578704</td>\n",
       "      <td>52.261888</td>\n",
       "      <td>-66.081738</td>\n",
       "      <td>-80.325110</td>\n",
       "      <td>0</td>\n",
       "    </tr>\n",
       "  </tbody>\n",
       "</table>\n",
       "<p>5 rows × 22 columns</p>\n",
       "</div>"
      ],
      "text/plain": [
       "   ID  Feature_1   Feature_2   Feature_3   Feature_4   Feature_5   Feature_6  \\\n",
       "0   1 -36.963099  -15.014703   87.100435  101.523360   82.106571  -10.956180   \n",
       "1   2 -43.715674   18.847116   89.543406  -71.319314   35.597052  126.358570   \n",
       "2   3 -30.737550  -63.729643  106.081332   81.773948  112.769976  -12.425351   \n",
       "3   4 -27.674757 -118.869495  135.605213   99.130189   50.947548  -63.704785   \n",
       "4   5 -28.654141  -77.746597   85.215365   50.374774   79.763207  -32.703048   \n",
       "\n",
       "   Feature_7  Feature_8   Feature_9  ...  Feature_12  Feature_13  Feature_14  \\\n",
       "0   0.592326 -51.919028  -90.650434  ...  -81.183744   13.101921   18.051450   \n",
       "1 -29.837495 -40.473764  -94.079238  ...  -37.848260    7.457352  -77.420742   \n",
       "2 -29.913286 -41.771200   16.424511  ... -106.610289    5.930143  -30.177083   \n",
       "3  -7.353057 -58.140229  -80.209027  ... -149.056417    3.893419  -74.100869   \n",
       "4 -28.152031 -63.994794 -153.566789  ... -102.731465   11.160205  -13.395073   \n",
       "\n",
       "   Feature_15  Feature_16  Feature_17  Feature_18  Feature_19  Feature_20  \\\n",
       "0  -40.606288  -39.697053  -13.870802  173.722987  -17.349169  -82.550844   \n",
       "1   53.773718 -100.124294    9.870650   11.592519 -106.123605  -92.796421   \n",
       "2 -138.969234  -56.054914  -12.790661  164.832498  -37.412902  -85.441150   \n",
       "3  -47.659832  -48.209817  -36.264323   59.001922  -59.064134  -78.538639   \n",
       "4    9.416237    2.649524  -43.578704   52.261888  -66.081738  -80.325110   \n",
       "\n",
       "   Class  \n",
       "0      0  \n",
       "1      1  \n",
       "2      0  \n",
       "3      0  \n",
       "4      0  \n",
       "\n",
       "[5 rows x 22 columns]"
      ]
     },
     "execution_count": 2,
     "metadata": {},
     "output_type": "execute_result"
    }
   ],
   "source": [
    "df = pd.read_csv(\"/datasets/binary_classification_train.csv\")\n",
    "df.head()"
   ]
  },
  {
   "cell_type": "code",
   "execution_count": 5,
   "metadata": {
    "colab": {
     "base_uri": "https://localhost:8080/"
    },
    "executionInfo": {
     "elapsed": 34,
     "status": "ok",
     "timestamp": 1735918111888,
     "user": {
      "displayName": "Akarsh",
      "userId": "02423875687432954389"
     },
     "user_tz": -330
    },
    "id": "q5h3MObq3d1p",
    "outputId": "7b276ae5-2308-4812-d383-58d60de44c50"
   },
   "outputs": [
    {
     "name": "stdout",
     "output_type": "stream",
     "text": [
      "<class 'pandas.core.frame.DataFrame'>\n",
      "RangeIndex: 48000 entries, 0 to 47999\n",
      "Data columns (total 22 columns):\n",
      " #   Column      Non-Null Count  Dtype  \n",
      "---  ------      --------------  -----  \n",
      " 0   ID          48000 non-null  int64  \n",
      " 1   Feature_1   48000 non-null  float64\n",
      " 2   Feature_2   48000 non-null  float64\n",
      " 3   Feature_3   48000 non-null  float64\n",
      " 4   Feature_4   48000 non-null  float64\n",
      " 5   Feature_5   48000 non-null  float64\n",
      " 6   Feature_6   48000 non-null  float64\n",
      " 7   Feature_7   48000 non-null  float64\n",
      " 8   Feature_8   48000 non-null  float64\n",
      " 9   Feature_9   48000 non-null  float64\n",
      " 10  Feature_10  48000 non-null  float64\n",
      " 11  Feature_11  48000 non-null  float64\n",
      " 12  Feature_12  48000 non-null  float64\n",
      " 13  Feature_13  48000 non-null  float64\n",
      " 14  Feature_14  48000 non-null  float64\n",
      " 15  Feature_15  48000 non-null  float64\n",
      " 16  Feature_16  48000 non-null  float64\n",
      " 17  Feature_17  48000 non-null  float64\n",
      " 18  Feature_18  48000 non-null  float64\n",
      " 19  Feature_19  48000 non-null  float64\n",
      " 20  Feature_20  48000 non-null  float64\n",
      " 21  Class       48000 non-null  int64  \n",
      "dtypes: float64(20), int64(2)\n",
      "memory usage: 8.1 MB\n"
     ]
    }
   ],
   "source": [
    "df.info()"
   ]
  },
  {
   "cell_type": "code",
   "execution_count": 6,
   "metadata": {
    "colab": {
     "base_uri": "https://localhost:8080/",
     "height": 349
    },
    "executionInfo": {
     "elapsed": 27,
     "status": "ok",
     "timestamp": 1735918111889,
     "user": {
      "displayName": "Akarsh",
      "userId": "02423875687432954389"
     },
     "user_tz": -330
    },
    "id": "YCrP-cqp3YAJ",
    "outputId": "964b381d-ddd8-4f86-f658-a5dce4e780d0"
   },
   "outputs": [
    {
     "data": {
      "application/vnd.google.colaboratory.intrinsic+json": {
       "type": "dataframe"
      },
      "text/html": [
       "\n",
       "  <div id=\"df-658848b4-43aa-4c4b-b9ea-62641a07f792\" class=\"colab-df-container\">\n",
       "    <div>\n",
       "<style scoped>\n",
       "    .dataframe tbody tr th:only-of-type {\n",
       "        vertical-align: middle;\n",
       "    }\n",
       "\n",
       "    .dataframe tbody tr th {\n",
       "        vertical-align: top;\n",
       "    }\n",
       "\n",
       "    .dataframe thead th {\n",
       "        text-align: right;\n",
       "    }\n",
       "</style>\n",
       "<table border=\"1\" class=\"dataframe\">\n",
       "  <thead>\n",
       "    <tr style=\"text-align: right;\">\n",
       "      <th></th>\n",
       "      <th>ID</th>\n",
       "      <th>Feature_1</th>\n",
       "      <th>Feature_2</th>\n",
       "      <th>Feature_3</th>\n",
       "      <th>Feature_4</th>\n",
       "      <th>Feature_5</th>\n",
       "      <th>Feature_6</th>\n",
       "      <th>Feature_7</th>\n",
       "      <th>Feature_8</th>\n",
       "      <th>Feature_9</th>\n",
       "      <th>...</th>\n",
       "      <th>Feature_12</th>\n",
       "      <th>Feature_13</th>\n",
       "      <th>Feature_14</th>\n",
       "      <th>Feature_15</th>\n",
       "      <th>Feature_16</th>\n",
       "      <th>Feature_17</th>\n",
       "      <th>Feature_18</th>\n",
       "      <th>Feature_19</th>\n",
       "      <th>Feature_20</th>\n",
       "      <th>Class</th>\n",
       "    </tr>\n",
       "  </thead>\n",
       "  <tbody>\n",
       "    <tr>\n",
       "      <th>count</th>\n",
       "      <td>48000.000000</td>\n",
       "      <td>48000.000000</td>\n",
       "      <td>48000.000000</td>\n",
       "      <td>48000.000000</td>\n",
       "      <td>48000.000000</td>\n",
       "      <td>48000.000000</td>\n",
       "      <td>48000.000000</td>\n",
       "      <td>48000.000000</td>\n",
       "      <td>48000.000000</td>\n",
       "      <td>48000.000000</td>\n",
       "      <td>...</td>\n",
       "      <td>48000.000000</td>\n",
       "      <td>48000.000000</td>\n",
       "      <td>48000.000000</td>\n",
       "      <td>48000.000000</td>\n",
       "      <td>48000.000000</td>\n",
       "      <td>48000.000000</td>\n",
       "      <td>48000.000000</td>\n",
       "      <td>48000.000000</td>\n",
       "      <td>48000.000000</td>\n",
       "      <td>48000.000000</td>\n",
       "    </tr>\n",
       "    <tr>\n",
       "      <th>mean</th>\n",
       "      <td>24000.500000</td>\n",
       "      <td>-32.710080</td>\n",
       "      <td>-86.999504</td>\n",
       "      <td>91.672563</td>\n",
       "      <td>-47.086712</td>\n",
       "      <td>87.381269</td>\n",
       "      <td>62.297793</td>\n",
       "      <td>-18.813825</td>\n",
       "      <td>-39.537948</td>\n",
       "      <td>-134.505325</td>\n",
       "      <td>...</td>\n",
       "      <td>-61.834487</td>\n",
       "      <td>9.778476</td>\n",
       "      <td>-59.388301</td>\n",
       "      <td>142.523377</td>\n",
       "      <td>-25.521858</td>\n",
       "      <td>-35.469499</td>\n",
       "      <td>111.853552</td>\n",
       "      <td>-54.258965</td>\n",
       "      <td>-83.721395</td>\n",
       "      <td>0.318417</td>\n",
       "    </tr>\n",
       "    <tr>\n",
       "      <th>std</th>\n",
       "      <td>13856.550797</td>\n",
       "      <td>4.683006</td>\n",
       "      <td>45.569874</td>\n",
       "      <td>38.999670</td>\n",
       "      <td>103.625380</td>\n",
       "      <td>27.225938</td>\n",
       "      <td>100.713818</td>\n",
       "      <td>18.042384</td>\n",
       "      <td>9.904532</td>\n",
       "      <td>56.124747</td>\n",
       "      <td>...</td>\n",
       "      <td>45.125347</td>\n",
       "      <td>5.525134</td>\n",
       "      <td>106.315691</td>\n",
       "      <td>151.672749</td>\n",
       "      <td>51.721065</td>\n",
       "      <td>47.131427</td>\n",
       "      <td>71.640825</td>\n",
       "      <td>30.426690</td>\n",
       "      <td>4.487199</td>\n",
       "      <td>0.465867</td>\n",
       "    </tr>\n",
       "    <tr>\n",
       "      <th>min</th>\n",
       "      <td>1.000000</td>\n",
       "      <td>-51.879254</td>\n",
       "      <td>-265.670276</td>\n",
       "      <td>-53.057019</td>\n",
       "      <td>-413.176904</td>\n",
       "      <td>-18.966125</td>\n",
       "      <td>-225.307992</td>\n",
       "      <td>-102.629027</td>\n",
       "      <td>-78.303267</td>\n",
       "      <td>-366.085536</td>\n",
       "      <td>...</td>\n",
       "      <td>-245.906036</td>\n",
       "      <td>-15.153410</td>\n",
       "      <td>-429.550085</td>\n",
       "      <td>-420.281140</td>\n",
       "      <td>-225.096759</td>\n",
       "      <td>-166.928194</td>\n",
       "      <td>-203.680014</td>\n",
       "      <td>-190.911859</td>\n",
       "      <td>-102.684089</td>\n",
       "      <td>0.000000</td>\n",
       "    </tr>\n",
       "    <tr>\n",
       "      <th>25%</th>\n",
       "      <td>12000.750000</td>\n",
       "      <td>-35.869749</td>\n",
       "      <td>-117.581636</td>\n",
       "      <td>65.320845</td>\n",
       "      <td>-127.410604</td>\n",
       "      <td>69.087460</td>\n",
       "      <td>-10.379372</td>\n",
       "      <td>-30.998228</td>\n",
       "      <td>-46.234590</td>\n",
       "      <td>-171.351277</td>\n",
       "      <td>...</td>\n",
       "      <td>-92.385159</td>\n",
       "      <td>6.067949</td>\n",
       "      <td>-143.445068</td>\n",
       "      <td>12.701277</td>\n",
       "      <td>-57.115088</td>\n",
       "      <td>-73.377231</td>\n",
       "      <td>76.113131</td>\n",
       "      <td>-70.449974</td>\n",
       "      <td>-86.739460</td>\n",
       "      <td>0.000000</td>\n",
       "    </tr>\n",
       "    <tr>\n",
       "      <th>50%</th>\n",
       "      <td>24000.500000</td>\n",
       "      <td>-32.686533</td>\n",
       "      <td>-86.899825</td>\n",
       "      <td>91.719266</td>\n",
       "      <td>-50.100503</td>\n",
       "      <td>87.456718</td>\n",
       "      <td>32.449321</td>\n",
       "      <td>-18.737928</td>\n",
       "      <td>-39.508161</td>\n",
       "      <td>-134.609962</td>\n",
       "      <td>...</td>\n",
       "      <td>-61.694674</td>\n",
       "      <td>9.757631</td>\n",
       "      <td>-62.367283</td>\n",
       "      <td>155.199113</td>\n",
       "      <td>-20.500201</td>\n",
       "      <td>-34.368754</td>\n",
       "      <td>122.773520</td>\n",
       "      <td>-50.657638</td>\n",
       "      <td>-83.721902</td>\n",
       "      <td>0.000000</td>\n",
       "    </tr>\n",
       "    <tr>\n",
       "      <th>75%</th>\n",
       "      <td>36000.250000</td>\n",
       "      <td>-29.538983</td>\n",
       "      <td>-56.444277</td>\n",
       "      <td>117.823929</td>\n",
       "      <td>32.095255</td>\n",
       "      <td>105.590800</td>\n",
       "      <td>128.044727</td>\n",
       "      <td>-6.639220</td>\n",
       "      <td>-32.844394</td>\n",
       "      <td>-97.651394</td>\n",
       "      <td>...</td>\n",
       "      <td>-31.194093</td>\n",
       "      <td>13.509303</td>\n",
       "      <td>23.690317</td>\n",
       "      <td>258.540757</td>\n",
       "      <td>10.166224</td>\n",
       "      <td>-3.296290</td>\n",
       "      <td>160.389834</td>\n",
       "      <td>-34.224643</td>\n",
       "      <td>-80.690199</td>\n",
       "      <td>1.000000</td>\n",
       "    </tr>\n",
       "    <tr>\n",
       "      <th>max</th>\n",
       "      <td>48000.000000</td>\n",
       "      <td>-12.232001</td>\n",
       "      <td>89.580439</td>\n",
       "      <td>260.437145</td>\n",
       "      <td>308.770327</td>\n",
       "      <td>213.059401</td>\n",
       "      <td>472.584974</td>\n",
       "      <td>59.703593</td>\n",
       "      <td>4.173876</td>\n",
       "      <td>107.093607</td>\n",
       "      <td>...</td>\n",
       "      <td>137.469309</td>\n",
       "      <td>35.302228</td>\n",
       "      <td>301.804130</td>\n",
       "      <td>793.269472</td>\n",
       "      <td>210.871429</td>\n",
       "      <td>143.991276</td>\n",
       "      <td>374.784302</td>\n",
       "      <td>48.825199</td>\n",
       "      <td>-65.080194</td>\n",
       "      <td>1.000000</td>\n",
       "    </tr>\n",
       "  </tbody>\n",
       "</table>\n",
       "<p>8 rows × 22 columns</p>\n",
       "</div>\n",
       "    <div class=\"colab-df-buttons\">\n",
       "\n",
       "  <div class=\"colab-df-container\">\n",
       "    <button class=\"colab-df-convert\" onclick=\"convertToInteractive('df-658848b4-43aa-4c4b-b9ea-62641a07f792')\"\n",
       "            title=\"Convert this dataframe to an interactive table.\"\n",
       "            style=\"display:none;\">\n",
       "\n",
       "  <svg xmlns=\"http://www.w3.org/2000/svg\" height=\"24px\" viewBox=\"0 -960 960 960\">\n",
       "    <path d=\"M120-120v-720h720v720H120Zm60-500h600v-160H180v160Zm220 220h160v-160H400v160Zm0 220h160v-160H400v160ZM180-400h160v-160H180v160Zm440 0h160v-160H620v160ZM180-180h160v-160H180v160Zm440 0h160v-160H620v160Z\"/>\n",
       "  </svg>\n",
       "    </button>\n",
       "\n",
       "  <style>\n",
       "    .colab-df-container {\n",
       "      display:flex;\n",
       "      gap: 12px;\n",
       "    }\n",
       "\n",
       "    .colab-df-convert {\n",
       "      background-color: #E8F0FE;\n",
       "      border: none;\n",
       "      border-radius: 50%;\n",
       "      cursor: pointer;\n",
       "      display: none;\n",
       "      fill: #1967D2;\n",
       "      height: 32px;\n",
       "      padding: 0 0 0 0;\n",
       "      width: 32px;\n",
       "    }\n",
       "\n",
       "    .colab-df-convert:hover {\n",
       "      background-color: #E2EBFA;\n",
       "      box-shadow: 0px 1px 2px rgba(60, 64, 67, 0.3), 0px 1px 3px 1px rgba(60, 64, 67, 0.15);\n",
       "      fill: #174EA6;\n",
       "    }\n",
       "\n",
       "    .colab-df-buttons div {\n",
       "      margin-bottom: 4px;\n",
       "    }\n",
       "\n",
       "    [theme=dark] .colab-df-convert {\n",
       "      background-color: #3B4455;\n",
       "      fill: #D2E3FC;\n",
       "    }\n",
       "\n",
       "    [theme=dark] .colab-df-convert:hover {\n",
       "      background-color: #434B5C;\n",
       "      box-shadow: 0px 1px 3px 1px rgba(0, 0, 0, 0.15);\n",
       "      filter: drop-shadow(0px 1px 2px rgba(0, 0, 0, 0.3));\n",
       "      fill: #FFFFFF;\n",
       "    }\n",
       "  </style>\n",
       "\n",
       "    <script>\n",
       "      const buttonEl =\n",
       "        document.querySelector('#df-658848b4-43aa-4c4b-b9ea-62641a07f792 button.colab-df-convert');\n",
       "      buttonEl.style.display =\n",
       "        google.colab.kernel.accessAllowed ? 'block' : 'none';\n",
       "\n",
       "      async function convertToInteractive(key) {\n",
       "        const element = document.querySelector('#df-658848b4-43aa-4c4b-b9ea-62641a07f792');\n",
       "        const dataTable =\n",
       "          await google.colab.kernel.invokeFunction('convertToInteractive',\n",
       "                                                    [key], {});\n",
       "        if (!dataTable) return;\n",
       "\n",
       "        const docLinkHtml = 'Like what you see? Visit the ' +\n",
       "          '<a target=\"_blank\" href=https://colab.research.google.com/notebooks/data_table.ipynb>data table notebook</a>'\n",
       "          + ' to learn more about interactive tables.';\n",
       "        element.innerHTML = '';\n",
       "        dataTable['output_type'] = 'display_data';\n",
       "        await google.colab.output.renderOutput(dataTable, element);\n",
       "        const docLink = document.createElement('div');\n",
       "        docLink.innerHTML = docLinkHtml;\n",
       "        element.appendChild(docLink);\n",
       "      }\n",
       "    </script>\n",
       "  </div>\n",
       "\n",
       "\n",
       "<div id=\"df-1cf05941-8c54-4667-8f53-5bcf9efbc6a4\">\n",
       "  <button class=\"colab-df-quickchart\" onclick=\"quickchart('df-1cf05941-8c54-4667-8f53-5bcf9efbc6a4')\"\n",
       "            title=\"Suggest charts\"\n",
       "            style=\"display:none;\">\n",
       "\n",
       "<svg xmlns=\"http://www.w3.org/2000/svg\" height=\"24px\"viewBox=\"0 0 24 24\"\n",
       "     width=\"24px\">\n",
       "    <g>\n",
       "        <path d=\"M19 3H5c-1.1 0-2 .9-2 2v14c0 1.1.9 2 2 2h14c1.1 0 2-.9 2-2V5c0-1.1-.9-2-2-2zM9 17H7v-7h2v7zm4 0h-2V7h2v10zm4 0h-2v-4h2v4z\"/>\n",
       "    </g>\n",
       "</svg>\n",
       "  </button>\n",
       "\n",
       "<style>\n",
       "  .colab-df-quickchart {\n",
       "      --bg-color: #E8F0FE;\n",
       "      --fill-color: #1967D2;\n",
       "      --hover-bg-color: #E2EBFA;\n",
       "      --hover-fill-color: #174EA6;\n",
       "      --disabled-fill-color: #AAA;\n",
       "      --disabled-bg-color: #DDD;\n",
       "  }\n",
       "\n",
       "  [theme=dark] .colab-df-quickchart {\n",
       "      --bg-color: #3B4455;\n",
       "      --fill-color: #D2E3FC;\n",
       "      --hover-bg-color: #434B5C;\n",
       "      --hover-fill-color: #FFFFFF;\n",
       "      --disabled-bg-color: #3B4455;\n",
       "      --disabled-fill-color: #666;\n",
       "  }\n",
       "\n",
       "  .colab-df-quickchart {\n",
       "    background-color: var(--bg-color);\n",
       "    border: none;\n",
       "    border-radius: 50%;\n",
       "    cursor: pointer;\n",
       "    display: none;\n",
       "    fill: var(--fill-color);\n",
       "    height: 32px;\n",
       "    padding: 0;\n",
       "    width: 32px;\n",
       "  }\n",
       "\n",
       "  .colab-df-quickchart:hover {\n",
       "    background-color: var(--hover-bg-color);\n",
       "    box-shadow: 0 1px 2px rgba(60, 64, 67, 0.3), 0 1px 3px 1px rgba(60, 64, 67, 0.15);\n",
       "    fill: var(--button-hover-fill-color);\n",
       "  }\n",
       "\n",
       "  .colab-df-quickchart-complete:disabled,\n",
       "  .colab-df-quickchart-complete:disabled:hover {\n",
       "    background-color: var(--disabled-bg-color);\n",
       "    fill: var(--disabled-fill-color);\n",
       "    box-shadow: none;\n",
       "  }\n",
       "\n",
       "  .colab-df-spinner {\n",
       "    border: 2px solid var(--fill-color);\n",
       "    border-color: transparent;\n",
       "    border-bottom-color: var(--fill-color);\n",
       "    animation:\n",
       "      spin 1s steps(1) infinite;\n",
       "  }\n",
       "\n",
       "  @keyframes spin {\n",
       "    0% {\n",
       "      border-color: transparent;\n",
       "      border-bottom-color: var(--fill-color);\n",
       "      border-left-color: var(--fill-color);\n",
       "    }\n",
       "    20% {\n",
       "      border-color: transparent;\n",
       "      border-left-color: var(--fill-color);\n",
       "      border-top-color: var(--fill-color);\n",
       "    }\n",
       "    30% {\n",
       "      border-color: transparent;\n",
       "      border-left-color: var(--fill-color);\n",
       "      border-top-color: var(--fill-color);\n",
       "      border-right-color: var(--fill-color);\n",
       "    }\n",
       "    40% {\n",
       "      border-color: transparent;\n",
       "      border-right-color: var(--fill-color);\n",
       "      border-top-color: var(--fill-color);\n",
       "    }\n",
       "    60% {\n",
       "      border-color: transparent;\n",
       "      border-right-color: var(--fill-color);\n",
       "    }\n",
       "    80% {\n",
       "      border-color: transparent;\n",
       "      border-right-color: var(--fill-color);\n",
       "      border-bottom-color: var(--fill-color);\n",
       "    }\n",
       "    90% {\n",
       "      border-color: transparent;\n",
       "      border-bottom-color: var(--fill-color);\n",
       "    }\n",
       "  }\n",
       "</style>\n",
       "\n",
       "  <script>\n",
       "    async function quickchart(key) {\n",
       "      const quickchartButtonEl =\n",
       "        document.querySelector('#' + key + ' button');\n",
       "      quickchartButtonEl.disabled = true;  // To prevent multiple clicks.\n",
       "      quickchartButtonEl.classList.add('colab-df-spinner');\n",
       "      try {\n",
       "        const charts = await google.colab.kernel.invokeFunction(\n",
       "            'suggestCharts', [key], {});\n",
       "      } catch (error) {\n",
       "        console.error('Error during call to suggestCharts:', error);\n",
       "      }\n",
       "      quickchartButtonEl.classList.remove('colab-df-spinner');\n",
       "      quickchartButtonEl.classList.add('colab-df-quickchart-complete');\n",
       "    }\n",
       "    (() => {\n",
       "      let quickchartButtonEl =\n",
       "        document.querySelector('#df-1cf05941-8c54-4667-8f53-5bcf9efbc6a4 button');\n",
       "      quickchartButtonEl.style.display =\n",
       "        google.colab.kernel.accessAllowed ? 'block' : 'none';\n",
       "    })();\n",
       "  </script>\n",
       "</div>\n",
       "\n",
       "    </div>\n",
       "  </div>\n"
      ],
      "text/plain": [
       "                 ID     Feature_1     Feature_2     Feature_3     Feature_4  \\\n",
       "count  48000.000000  48000.000000  48000.000000  48000.000000  48000.000000   \n",
       "mean   24000.500000    -32.710080    -86.999504     91.672563    -47.086712   \n",
       "std    13856.550797      4.683006     45.569874     38.999670    103.625380   \n",
       "min        1.000000    -51.879254   -265.670276    -53.057019   -413.176904   \n",
       "25%    12000.750000    -35.869749   -117.581636     65.320845   -127.410604   \n",
       "50%    24000.500000    -32.686533    -86.899825     91.719266    -50.100503   \n",
       "75%    36000.250000    -29.538983    -56.444277    117.823929     32.095255   \n",
       "max    48000.000000    -12.232001     89.580439    260.437145    308.770327   \n",
       "\n",
       "          Feature_5     Feature_6     Feature_7     Feature_8     Feature_9  \\\n",
       "count  48000.000000  48000.000000  48000.000000  48000.000000  48000.000000   \n",
       "mean      87.381269     62.297793    -18.813825    -39.537948   -134.505325   \n",
       "std       27.225938    100.713818     18.042384      9.904532     56.124747   \n",
       "min      -18.966125   -225.307992   -102.629027    -78.303267   -366.085536   \n",
       "25%       69.087460    -10.379372    -30.998228    -46.234590   -171.351277   \n",
       "50%       87.456718     32.449321    -18.737928    -39.508161   -134.609962   \n",
       "75%      105.590800    128.044727     -6.639220    -32.844394    -97.651394   \n",
       "max      213.059401    472.584974     59.703593      4.173876    107.093607   \n",
       "\n",
       "       ...    Feature_12    Feature_13    Feature_14    Feature_15  \\\n",
       "count  ...  48000.000000  48000.000000  48000.000000  48000.000000   \n",
       "mean   ...    -61.834487      9.778476    -59.388301    142.523377   \n",
       "std    ...     45.125347      5.525134    106.315691    151.672749   \n",
       "min    ...   -245.906036    -15.153410   -429.550085   -420.281140   \n",
       "25%    ...    -92.385159      6.067949   -143.445068     12.701277   \n",
       "50%    ...    -61.694674      9.757631    -62.367283    155.199113   \n",
       "75%    ...    -31.194093     13.509303     23.690317    258.540757   \n",
       "max    ...    137.469309     35.302228    301.804130    793.269472   \n",
       "\n",
       "         Feature_16    Feature_17    Feature_18    Feature_19    Feature_20  \\\n",
       "count  48000.000000  48000.000000  48000.000000  48000.000000  48000.000000   \n",
       "mean     -25.521858    -35.469499    111.853552    -54.258965    -83.721395   \n",
       "std       51.721065     47.131427     71.640825     30.426690      4.487199   \n",
       "min     -225.096759   -166.928194   -203.680014   -190.911859   -102.684089   \n",
       "25%      -57.115088    -73.377231     76.113131    -70.449974    -86.739460   \n",
       "50%      -20.500201    -34.368754    122.773520    -50.657638    -83.721902   \n",
       "75%       10.166224     -3.296290    160.389834    -34.224643    -80.690199   \n",
       "max      210.871429    143.991276    374.784302     48.825199    -65.080194   \n",
       "\n",
       "              Class  \n",
       "count  48000.000000  \n",
       "mean       0.318417  \n",
       "std        0.465867  \n",
       "min        0.000000  \n",
       "25%        0.000000  \n",
       "50%        0.000000  \n",
       "75%        1.000000  \n",
       "max        1.000000  \n",
       "\n",
       "[8 rows x 22 columns]"
      ]
     },
     "execution_count": 6,
     "metadata": {},
     "output_type": "execute_result"
    }
   ],
   "source": [
    "df.describe()"
   ]
  },
  {
   "cell_type": "markdown",
   "metadata": {
    "id": "DDVZ3hTL30V9"
   },
   "source": [
    "## Training"
   ]
  },
  {
   "cell_type": "code",
   "execution_count": 7,
   "metadata": {
    "colab": {
     "base_uri": "https://localhost:8080/"
    },
    "executionInfo": {
     "elapsed": 25,
     "status": "ok",
     "timestamp": 1735918111889,
     "user": {
      "displayName": "Akarsh",
      "userId": "02423875687432954389"
     },
     "user_tz": -330
    },
    "id": "xGSN6pf53gc_",
    "outputId": "b185fd93-8f31-4df3-ea75-4bc379f02fd1"
   },
   "outputs": [
    {
     "data": {
      "text/plain": [
       "(44000, 20)"
      ]
     },
     "execution_count": 7,
     "metadata": {},
     "output_type": "execute_result"
    }
   ],
   "source": [
    "X_train = np.array(df.iloc[:44000, 1:21])\n",
    "m_train, n_train = np.shape(X_train)\n",
    "(m_train, n_train)"
   ]
  },
  {
   "cell_type": "code",
   "execution_count": 8,
   "metadata": {
    "colab": {
     "base_uri": "https://localhost:8080/"
    },
    "executionInfo": {
     "elapsed": 22,
     "status": "ok",
     "timestamp": 1735918111889,
     "user": {
      "displayName": "Akarsh",
      "userId": "02423875687432954389"
     },
     "user_tz": -330
    },
    "id": "vej4KiDb4LGS",
    "outputId": "a6a514e9-93af-42b7-aa93-29485a2b1860"
   },
   "outputs": [
    {
     "data": {
      "text/plain": [
       "(44000,)"
      ]
     },
     "execution_count": 8,
     "metadata": {},
     "output_type": "execute_result"
    }
   ],
   "source": [
    "y_train = np.array(df.iloc[:44000, 21])\n",
    "np.shape(y_train)"
   ]
  },
  {
   "cell_type": "code",
   "execution_count": 9,
   "metadata": {
    "colab": {
     "base_uri": "https://localhost:8080/"
    },
    "executionInfo": {
     "elapsed": 20,
     "status": "ok",
     "timestamp": 1735918111889,
     "user": {
      "displayName": "Akarsh",
      "userId": "02423875687432954389"
     },
     "user_tz": -330
    },
    "id": "qHNYhqdn4ULn",
    "outputId": "8380c406-4d75-4214-cee9-89166ccad4d5"
   },
   "outputs": [
    {
     "data": {
      "text/plain": [
       "array([0.10133232, 0.60485702, 0.0997098 , 0.7812408 , 0.46189322,\n",
       "       0.76067814, 0.47098853, 0.98117139, 0.34509465, 0.42708639,\n",
       "       0.8553101 , 0.66177131, 0.16498519, 0.81493071, 0.52704011,\n",
       "       0.5568238 , 0.92631338, 0.75599667, 0.45458337, 0.16633339])"
      ]
     },
     "execution_count": 9,
     "metadata": {},
     "output_type": "execute_result"
    }
   ],
   "source": [
    "w = np.random.rand(n_train)\n",
    "w"
   ]
  },
  {
   "cell_type": "code",
   "execution_count": 10,
   "metadata": {
    "executionInfo": {
     "elapsed": 19,
     "status": "ok",
     "timestamp": 1735918111890,
     "user": {
      "displayName": "Akarsh",
      "userId": "02423875687432954389"
     },
     "user_tz": -330
    },
    "id": "ZHfieHJK408a"
   },
   "outputs": [],
   "source": [
    "b = 0"
   ]
  },
  {
   "cell_type": "code",
   "execution_count": 11,
   "metadata": {
    "colab": {
     "base_uri": "https://localhost:8080/"
    },
    "executionInfo": {
     "elapsed": 20,
     "status": "ok",
     "timestamp": 1735918111891,
     "user": {
      "displayName": "Akarsh",
      "userId": "02423875687432954389"
     },
     "user_tz": -330
    },
    "id": "F6wxWbKk44mm",
    "outputId": "7535bd64-781d-4556-e94c-d78bf9ad0e0d"
   },
   "outputs": [
    {
     "data": {
      "text/plain": [
       "array([[-0.90927345,  1.57861837, -0.11810717,  1.43769063, -0.1935029 ,\n",
       "        -0.72775588,  1.07804917, -1.25045151,  0.78271133,  0.85721966,\n",
       "        -2.08949431, -0.43109587,  0.60239808,  0.72879958, -1.20895489,\n",
       "        -0.27305303,  0.45907905,  0.86375575,  1.21000097,  0.26092853]])"
      ]
     },
     "execution_count": 11,
     "metadata": {},
     "output_type": "execute_result"
    }
   ],
   "source": [
    "Xn_train, Xmean_train, Xstd_train = lnr.normalize(X_train)\n",
    "Xn_train[:1]"
   ]
  },
  {
   "cell_type": "code",
   "execution_count": 12,
   "metadata": {
    "colab": {
     "base_uri": "https://localhost:8080/"
    },
    "executionInfo": {
     "elapsed": 17,
     "status": "ok",
     "timestamp": 1735918111891,
     "user": {
      "displayName": "Akarsh",
      "userId": "02423875687432954389"
     },
     "user_tz": -330
    },
    "id": "HLhWzRig5KZO",
    "outputId": "7b5b078e-c773-4855-a7d4-ecfa13c4aaef"
   },
   "outputs": [
    {
     "data": {
      "text/plain": [
       "(44000,)"
      ]
     },
     "execution_count": 12,
     "metadata": {},
     "output_type": "execute_result"
    }
   ],
   "source": [
    "yhat_train = sigmoid(lnr.predict(Xn_train, w, b))\n",
    "np.shape(yhat_train)"
   ]
  },
  {
   "cell_type": "code",
   "execution_count": 13,
   "metadata": {
    "colab": {
     "base_uri": "https://localhost:8080/"
    },
    "executionInfo": {
     "elapsed": 14,
     "status": "ok",
     "timestamp": 1735918111891,
     "user": {
      "displayName": "Akarsh",
      "userId": "02423875687432954389"
     },
     "user_tz": -330
    },
    "id": "hL1I6Vnr52FX",
    "outputId": "7c517bb9-d1b8-4a05-f724-89fd1672ccda"
   },
   "outputs": [
    {
     "data": {
      "text/plain": [
       "1.0658203988552886"
      ]
     },
     "execution_count": 13,
     "metadata": {},
     "output_type": "execute_result"
    }
   ],
   "source": [
    "logistic_cost(y_train, yhat_train)"
   ]
  },
  {
   "cell_type": "code",
   "execution_count": 48,
   "metadata": {
    "executionInfo": {
     "elapsed": 4,
     "status": "ok",
     "timestamp": 1735918210786,
     "user": {
      "displayName": "Akarsh",
      "userId": "02423875687432954389"
     },
     "user_tz": -330
    },
    "id": "MKX6g5C_yF7B"
   },
   "outputs": [],
   "source": [
    "y = y_train\n",
    "y_pred = yhat_train"
   ]
  },
  {
   "cell_type": "code",
   "execution_count": 49,
   "metadata": {
    "colab": {
     "base_uri": "https://localhost:8080/"
    },
    "executionInfo": {
     "elapsed": 423,
     "status": "ok",
     "timestamp": 1735918218666,
     "user": {
      "displayName": "Akarsh",
      "userId": "02423875687432954389"
     },
     "user_tz": -330
    },
    "id": "QaPmVLV5yPlU",
    "outputId": "1f6b4032-2adf-478d-be7b-6cc8089f2318"
   },
   "outputs": [
    {
     "data": {
      "text/plain": [
       "array([-0.02046107, -0.10658596, -0.02996601, ..., -0.02150274,\n",
       "       -0.07114937, -0.0104246 ])"
      ]
     },
     "execution_count": 49,
     "metadata": {},
     "output_type": "execute_result"
    }
   ],
   "source": [
    "y*np.log(y_pred) + (1-y)*np.log(1-y_pred)"
   ]
  },
  {
   "cell_type": "code",
   "execution_count": 14,
   "metadata": {
    "colab": {
     "base_uri": "https://localhost:8080/"
    },
    "executionInfo": {
     "elapsed": 12868,
     "status": "ok",
     "timestamp": 1735918124747,
     "user": {
      "displayName": "Akarsh",
      "userId": "02423875687432954389"
     },
     "user_tz": -330
    },
    "id": "Uzz2Xahp81eC",
    "outputId": "72b9856c-bcad-400c-fb8f-b98cc92611e2"
   },
   "outputs": [
    {
     "name": "stdout",
     "output_type": "stream",
     "text": [
      "Cost at iteration 0: 1.0658203988552886\n",
      "Cost at iteration 100: 0.24881436664009285\n",
      "Cost at iteration 200: 0.24724271502499806\n",
      "Cost at iteration 300: 0.24708751416588812\n",
      "Cost at iteration 400: 0.24707076815075626\n",
      "Cost at iteration 500: 0.24706893122307655\n",
      "Cost at iteration 600: 0.24706872861179635\n",
      "Cost at iteration 700: 0.24706870622139188\n",
      "Cost at iteration 800: 0.24706870374545228\n",
      "Cost at iteration 900: 0.24706870347160306\n",
      "Cost at iteration 1000: 0.2470687034413959\n"
     ]
    }
   ],
   "source": [
    "n_iter = 1000\n",
    "alpha = 0.5\n",
    "w, b, cost_history = logistic_gradient_descent(Xn_train, w, b, y_train, n_iter, alpha)"
   ]
  },
  {
   "cell_type": "code",
   "execution_count": 15,
   "metadata": {
    "colab": {
     "base_uri": "https://localhost:8080/"
    },
    "executionInfo": {
     "elapsed": 30,
     "status": "ok",
     "timestamp": 1735918124748,
     "user": {
      "displayName": "Akarsh",
      "userId": "02423875687432954389"
     },
     "user_tz": -330
    },
    "id": "CyxUR-ciac9y",
    "outputId": "4df3a359-9a63-406c-97c2-f0dae57aeb10"
   },
   "outputs": [
    {
     "data": {
      "text/plain": [
       "array([1.0658204 , 0.28407846, 0.25832431, 0.25233424, 0.24998981,\n",
       "       0.24881437, 0.24814731, 0.24774588, 0.24749741, 0.24734142,\n",
       "       0.24724272, 0.24717996, 0.24713994, 0.24711437, 0.247098  ,\n",
       "       0.24708751, 0.24708079, 0.24707647, 0.2470737 , 0.24707191,\n",
       "       0.24707077, 0.24707003, 0.24706956, 0.24706925, 0.24706906,\n",
       "       0.24706893, 0.24706885, 0.2470688 , 0.24706876, 0.24706874,\n",
       "       0.24706873, 0.24706872, 0.24706871, 0.24706871, 0.24706871,\n",
       "       0.24706871, 0.24706871, 0.2470687 , 0.2470687 , 0.2470687 ,\n",
       "       0.2470687 , 0.2470687 , 0.2470687 , 0.2470687 , 0.2470687 ,\n",
       "       0.2470687 , 0.2470687 , 0.2470687 , 0.2470687 , 0.2470687 ])"
      ]
     },
     "execution_count": 15,
     "metadata": {},
     "output_type": "execute_result"
    }
   ],
   "source": [
    "cost_history[::n_iter//50]"
   ]
  },
  {
   "cell_type": "code",
   "execution_count": 16,
   "metadata": {
    "colab": {
     "base_uri": "https://localhost:8080/"
    },
    "executionInfo": {
     "elapsed": 26,
     "status": "ok",
     "timestamp": 1735918124748,
     "user": {
      "displayName": "Akarsh",
      "userId": "02423875687432954389"
     },
     "user_tz": -330
    },
    "id": "u8MukC_aoohq",
    "outputId": "2d4428ac-da7e-4dca-cef6-4a1079e33565"
   },
   "outputs": [
    {
     "data": {
      "text/plain": [
       "array([0.02025316, 0.89889778, 0.02952148, ..., 0.0212732 , 0.93132277,\n",
       "       0.01037045])"
      ]
     },
     "execution_count": 16,
     "metadata": {},
     "output_type": "execute_result"
    }
   ],
   "source": [
    "yhat_train = sigmoid(lnr.predict(Xn_train, w, b))\n",
    "yhat_train"
   ]
  },
  {
   "cell_type": "code",
   "execution_count": 17,
   "metadata": {
    "colab": {
     "base_uri": "https://localhost:8080/"
    },
    "executionInfo": {
     "elapsed": 23,
     "status": "ok",
     "timestamp": 1735918124748,
     "user": {
      "displayName": "Akarsh",
      "userId": "02423875687432954389"
     },
     "user_tz": -330
    },
    "id": "DFjJzMzyDKHE",
    "outputId": "34e2ffee-30f4-416b-89fe-e2fdb955efcd"
   },
   "outputs": [
    {
     "data": {
      "text/plain": [
       "array([0, 1, 0, ..., 0, 1, 0])"
      ]
     },
     "execution_count": 17,
     "metadata": {},
     "output_type": "execute_result"
    }
   ],
   "source": [
    "y_pred_train = decision(yhat_train)\n",
    "y_pred_train"
   ]
  },
  {
   "cell_type": "code",
   "execution_count": 18,
   "metadata": {
    "colab": {
     "base_uri": "https://localhost:8080/"
    },
    "executionInfo": {
     "elapsed": 21,
     "status": "ok",
     "timestamp": 1735918124748,
     "user": {
      "displayName": "Akarsh",
      "userId": "02423875687432954389"
     },
     "user_tz": -330
    },
    "id": "q2VfR7NKp71S",
    "outputId": "26ff2cb6-b86d-4e67-b9c8-03825596ea65"
   },
   "outputs": [
    {
     "data": {
      "text/plain": [
       "0.9345909090909091"
      ]
     },
     "execution_count": 18,
     "metadata": {},
     "output_type": "execute_result"
    }
   ],
   "source": [
    "train_bce = bce(y_train, yhat_train)\n",
    "train_bce"
   ]
  },
  {
   "cell_type": "code",
   "execution_count": 19,
   "metadata": {
    "colab": {
     "base_uri": "https://localhost:8080/"
    },
    "executionInfo": {
     "elapsed": 19,
     "status": "ok",
     "timestamp": 1735918124749,
     "user": {
      "displayName": "Akarsh",
      "userId": "02423875687432954389"
     },
     "user_tz": -330
    },
    "id": "drrefzq6pc-e",
    "outputId": "a064962f-0b07-4f13-f403-e4bfb5f7a3c8"
   },
   "outputs": [
    {
     "data": {
      "text/plain": [
       "0.060943550558750614"
      ]
     },
     "execution_count": 19,
     "metadata": {},
     "output_type": "execute_result"
    }
   ],
   "source": [
    "train_mse = lnr.mse(y_train, yhat_train)\n",
    "train_mse"
   ]
  },
  {
   "cell_type": "code",
   "execution_count": 20,
   "metadata": {
    "colab": {
     "base_uri": "https://localhost:8080/"
    },
    "executionInfo": {
     "elapsed": 17,
     "status": "ok",
     "timestamp": 1735918124749,
     "user": {
      "displayName": "Akarsh",
      "userId": "02423875687432954389"
     },
     "user_tz": -330
    },
    "id": "4bqSgKPtpkb5",
    "outputId": "d62574a6-0c17-4d20-ed39-1da3274a5839"
   },
   "outputs": [
    {
     "data": {
      "text/plain": [
       "0.7193674162221363"
      ]
     },
     "execution_count": 20,
     "metadata": {},
     "output_type": "execute_result"
    }
   ],
   "source": [
    "train_r2 = lnr.r2_score(y_train, yhat_train)\n",
    "train_r2"
   ]
  },
  {
   "cell_type": "code",
   "execution_count": 21,
   "metadata": {
    "colab": {
     "base_uri": "https://localhost:8080/",
     "height": 143
    },
    "executionInfo": {
     "elapsed": 15,
     "status": "ok",
     "timestamp": 1735918124749,
     "user": {
      "displayName": "Akarsh",
      "userId": "02423875687432954389"
     },
     "user_tz": -330
    },
    "id": "A3lmH4wMB19G",
    "outputId": "3a5dd103-c842-4bb8-a172-d1b46311f7cd"
   },
   "outputs": [
    {
     "data": {
      "application/vnd.google.colaboratory.intrinsic+json": {
       "summary": "{\n  \"name\": \"pd\",\n  \"rows\": 2,\n  \"fields\": [\n    {\n      \"column\": \"Actual\",\n      \"properties\": {\n        \"dtype\": \"number\",\n        \"std\": 0,\n        \"min\": 0,\n        \"max\": 1,\n        \"num_unique_values\": 2,\n        \"samples\": [\n          1,\n          0\n        ],\n        \"semantic_type\": \"\",\n        \"description\": \"\"\n      }\n    },\n    {\n      \"column\": 0,\n      \"properties\": {\n        \"dtype\": \"number\",\n        \"std\": 19159,\n        \"min\": 1957,\n        \"max\": 29052,\n        \"num_unique_values\": 2,\n        \"samples\": [\n          1957,\n          29052\n        ],\n        \"semantic_type\": \"\",\n        \"description\": \"\"\n      }\n    },\n    {\n      \"column\": 1,\n      \"properties\": {\n        \"dtype\": \"number\",\n        \"std\": 7883,\n        \"min\": 921,\n        \"max\": 12070,\n        \"num_unique_values\": 2,\n        \"samples\": [\n          12070,\n          921\n        ],\n        \"semantic_type\": \"\",\n        \"description\": \"\"\n      }\n    }\n  ]\n}",
       "type": "dataframe"
      },
      "text/html": [
       "\n",
       "  <div id=\"df-47736f69-2dd6-4b63-8813-3fc614be75fa\" class=\"colab-df-container\">\n",
       "    <div>\n",
       "<style scoped>\n",
       "    .dataframe tbody tr th:only-of-type {\n",
       "        vertical-align: middle;\n",
       "    }\n",
       "\n",
       "    .dataframe tbody tr th {\n",
       "        vertical-align: top;\n",
       "    }\n",
       "\n",
       "    .dataframe thead th {\n",
       "        text-align: right;\n",
       "    }\n",
       "</style>\n",
       "<table border=\"1\" class=\"dataframe\">\n",
       "  <thead>\n",
       "    <tr style=\"text-align: right;\">\n",
       "      <th>Predicted</th>\n",
       "      <th>0</th>\n",
       "      <th>1</th>\n",
       "    </tr>\n",
       "    <tr>\n",
       "      <th>Actual</th>\n",
       "      <th></th>\n",
       "      <th></th>\n",
       "    </tr>\n",
       "  </thead>\n",
       "  <tbody>\n",
       "    <tr>\n",
       "      <th>0</th>\n",
       "      <td>29052</td>\n",
       "      <td>921</td>\n",
       "    </tr>\n",
       "    <tr>\n",
       "      <th>1</th>\n",
       "      <td>1957</td>\n",
       "      <td>12070</td>\n",
       "    </tr>\n",
       "  </tbody>\n",
       "</table>\n",
       "</div>\n",
       "    <div class=\"colab-df-buttons\">\n",
       "\n",
       "  <div class=\"colab-df-container\">\n",
       "    <button class=\"colab-df-convert\" onclick=\"convertToInteractive('df-47736f69-2dd6-4b63-8813-3fc614be75fa')\"\n",
       "            title=\"Convert this dataframe to an interactive table.\"\n",
       "            style=\"display:none;\">\n",
       "\n",
       "  <svg xmlns=\"http://www.w3.org/2000/svg\" height=\"24px\" viewBox=\"0 -960 960 960\">\n",
       "    <path d=\"M120-120v-720h720v720H120Zm60-500h600v-160H180v160Zm220 220h160v-160H400v160Zm0 220h160v-160H400v160ZM180-400h160v-160H180v160Zm440 0h160v-160H620v160ZM180-180h160v-160H180v160Zm440 0h160v-160H620v160Z\"/>\n",
       "  </svg>\n",
       "    </button>\n",
       "\n",
       "  <style>\n",
       "    .colab-df-container {\n",
       "      display:flex;\n",
       "      gap: 12px;\n",
       "    }\n",
       "\n",
       "    .colab-df-convert {\n",
       "      background-color: #E8F0FE;\n",
       "      border: none;\n",
       "      border-radius: 50%;\n",
       "      cursor: pointer;\n",
       "      display: none;\n",
       "      fill: #1967D2;\n",
       "      height: 32px;\n",
       "      padding: 0 0 0 0;\n",
       "      width: 32px;\n",
       "    }\n",
       "\n",
       "    .colab-df-convert:hover {\n",
       "      background-color: #E2EBFA;\n",
       "      box-shadow: 0px 1px 2px rgba(60, 64, 67, 0.3), 0px 1px 3px 1px rgba(60, 64, 67, 0.15);\n",
       "      fill: #174EA6;\n",
       "    }\n",
       "\n",
       "    .colab-df-buttons div {\n",
       "      margin-bottom: 4px;\n",
       "    }\n",
       "\n",
       "    [theme=dark] .colab-df-convert {\n",
       "      background-color: #3B4455;\n",
       "      fill: #D2E3FC;\n",
       "    }\n",
       "\n",
       "    [theme=dark] .colab-df-convert:hover {\n",
       "      background-color: #434B5C;\n",
       "      box-shadow: 0px 1px 3px 1px rgba(0, 0, 0, 0.15);\n",
       "      filter: drop-shadow(0px 1px 2px rgba(0, 0, 0, 0.3));\n",
       "      fill: #FFFFFF;\n",
       "    }\n",
       "  </style>\n",
       "\n",
       "    <script>\n",
       "      const buttonEl =\n",
       "        document.querySelector('#df-47736f69-2dd6-4b63-8813-3fc614be75fa button.colab-df-convert');\n",
       "      buttonEl.style.display =\n",
       "        google.colab.kernel.accessAllowed ? 'block' : 'none';\n",
       "\n",
       "      async function convertToInteractive(key) {\n",
       "        const element = document.querySelector('#df-47736f69-2dd6-4b63-8813-3fc614be75fa');\n",
       "        const dataTable =\n",
       "          await google.colab.kernel.invokeFunction('convertToInteractive',\n",
       "                                                    [key], {});\n",
       "        if (!dataTable) return;\n",
       "\n",
       "        const docLinkHtml = 'Like what you see? Visit the ' +\n",
       "          '<a target=\"_blank\" href=https://colab.research.google.com/notebooks/data_table.ipynb>data table notebook</a>'\n",
       "          + ' to learn more about interactive tables.';\n",
       "        element.innerHTML = '';\n",
       "        dataTable['output_type'] = 'display_data';\n",
       "        await google.colab.output.renderOutput(dataTable, element);\n",
       "        const docLink = document.createElement('div');\n",
       "        docLink.innerHTML = docLinkHtml;\n",
       "        element.appendChild(docLink);\n",
       "      }\n",
       "    </script>\n",
       "  </div>\n",
       "\n",
       "\n",
       "<div id=\"df-722729a2-fa5b-44ec-9a08-1a3a73bc413f\">\n",
       "  <button class=\"colab-df-quickchart\" onclick=\"quickchart('df-722729a2-fa5b-44ec-9a08-1a3a73bc413f')\"\n",
       "            title=\"Suggest charts\"\n",
       "            style=\"display:none;\">\n",
       "\n",
       "<svg xmlns=\"http://www.w3.org/2000/svg\" height=\"24px\"viewBox=\"0 0 24 24\"\n",
       "     width=\"24px\">\n",
       "    <g>\n",
       "        <path d=\"M19 3H5c-1.1 0-2 .9-2 2v14c0 1.1.9 2 2 2h14c1.1 0 2-.9 2-2V5c0-1.1-.9-2-2-2zM9 17H7v-7h2v7zm4 0h-2V7h2v10zm4 0h-2v-4h2v4z\"/>\n",
       "    </g>\n",
       "</svg>\n",
       "  </button>\n",
       "\n",
       "<style>\n",
       "  .colab-df-quickchart {\n",
       "      --bg-color: #E8F0FE;\n",
       "      --fill-color: #1967D2;\n",
       "      --hover-bg-color: #E2EBFA;\n",
       "      --hover-fill-color: #174EA6;\n",
       "      --disabled-fill-color: #AAA;\n",
       "      --disabled-bg-color: #DDD;\n",
       "  }\n",
       "\n",
       "  [theme=dark] .colab-df-quickchart {\n",
       "      --bg-color: #3B4455;\n",
       "      --fill-color: #D2E3FC;\n",
       "      --hover-bg-color: #434B5C;\n",
       "      --hover-fill-color: #FFFFFF;\n",
       "      --disabled-bg-color: #3B4455;\n",
       "      --disabled-fill-color: #666;\n",
       "  }\n",
       "\n",
       "  .colab-df-quickchart {\n",
       "    background-color: var(--bg-color);\n",
       "    border: none;\n",
       "    border-radius: 50%;\n",
       "    cursor: pointer;\n",
       "    display: none;\n",
       "    fill: var(--fill-color);\n",
       "    height: 32px;\n",
       "    padding: 0;\n",
       "    width: 32px;\n",
       "  }\n",
       "\n",
       "  .colab-df-quickchart:hover {\n",
       "    background-color: var(--hover-bg-color);\n",
       "    box-shadow: 0 1px 2px rgba(60, 64, 67, 0.3), 0 1px 3px 1px rgba(60, 64, 67, 0.15);\n",
       "    fill: var(--button-hover-fill-color);\n",
       "  }\n",
       "\n",
       "  .colab-df-quickchart-complete:disabled,\n",
       "  .colab-df-quickchart-complete:disabled:hover {\n",
       "    background-color: var(--disabled-bg-color);\n",
       "    fill: var(--disabled-fill-color);\n",
       "    box-shadow: none;\n",
       "  }\n",
       "\n",
       "  .colab-df-spinner {\n",
       "    border: 2px solid var(--fill-color);\n",
       "    border-color: transparent;\n",
       "    border-bottom-color: var(--fill-color);\n",
       "    animation:\n",
       "      spin 1s steps(1) infinite;\n",
       "  }\n",
       "\n",
       "  @keyframes spin {\n",
       "    0% {\n",
       "      border-color: transparent;\n",
       "      border-bottom-color: var(--fill-color);\n",
       "      border-left-color: var(--fill-color);\n",
       "    }\n",
       "    20% {\n",
       "      border-color: transparent;\n",
       "      border-left-color: var(--fill-color);\n",
       "      border-top-color: var(--fill-color);\n",
       "    }\n",
       "    30% {\n",
       "      border-color: transparent;\n",
       "      border-left-color: var(--fill-color);\n",
       "      border-top-color: var(--fill-color);\n",
       "      border-right-color: var(--fill-color);\n",
       "    }\n",
       "    40% {\n",
       "      border-color: transparent;\n",
       "      border-right-color: var(--fill-color);\n",
       "      border-top-color: var(--fill-color);\n",
       "    }\n",
       "    60% {\n",
       "      border-color: transparent;\n",
       "      border-right-color: var(--fill-color);\n",
       "    }\n",
       "    80% {\n",
       "      border-color: transparent;\n",
       "      border-right-color: var(--fill-color);\n",
       "      border-bottom-color: var(--fill-color);\n",
       "    }\n",
       "    90% {\n",
       "      border-color: transparent;\n",
       "      border-bottom-color: var(--fill-color);\n",
       "    }\n",
       "  }\n",
       "</style>\n",
       "\n",
       "  <script>\n",
       "    async function quickchart(key) {\n",
       "      const quickchartButtonEl =\n",
       "        document.querySelector('#' + key + ' button');\n",
       "      quickchartButtonEl.disabled = true;  // To prevent multiple clicks.\n",
       "      quickchartButtonEl.classList.add('colab-df-spinner');\n",
       "      try {\n",
       "        const charts = await google.colab.kernel.invokeFunction(\n",
       "            'suggestCharts', [key], {});\n",
       "      } catch (error) {\n",
       "        console.error('Error during call to suggestCharts:', error);\n",
       "      }\n",
       "      quickchartButtonEl.classList.remove('colab-df-spinner');\n",
       "      quickchartButtonEl.classList.add('colab-df-quickchart-complete');\n",
       "    }\n",
       "    (() => {\n",
       "      let quickchartButtonEl =\n",
       "        document.querySelector('#df-722729a2-fa5b-44ec-9a08-1a3a73bc413f button');\n",
       "      quickchartButtonEl.style.display =\n",
       "        google.colab.kernel.accessAllowed ? 'block' : 'none';\n",
       "    })();\n",
       "  </script>\n",
       "</div>\n",
       "\n",
       "    </div>\n",
       "  </div>\n"
      ],
      "text/plain": [
       "Predicted      0      1\n",
       "Actual                 \n",
       "0          29052    921\n",
       "1           1957  12070"
      ]
     },
     "execution_count": 21,
     "metadata": {},
     "output_type": "execute_result"
    }
   ],
   "source": [
    "# Confusion Matrix\n",
    "pd.crosstab(y_train, y_pred_train, rownames = ['Actual'], colnames = ['Predicted'])"
   ]
  },
  {
   "cell_type": "code",
   "execution_count": 22,
   "metadata": {
    "colab": {
     "base_uri": "https://localhost:8080/"
    },
    "executionInfo": {
     "elapsed": 13,
     "status": "ok",
     "timestamp": 1735918124749,
     "user": {
      "displayName": "Akarsh",
      "userId": "02423875687432954389"
     },
     "user_tz": -330
    },
    "id": "me3p5w5yVs7x",
    "outputId": "6de70f88-3e8d-4310-e44e-8621b6263d70"
   },
   "outputs": [
    {
     "data": {
      "text/plain": [
       "0.8934784217928788"
      ]
     },
     "execution_count": 22,
     "metadata": {},
     "output_type": "execute_result"
    }
   ],
   "source": [
    "F1_train = f1_score(y_train, yhat_train)\n",
    "F1_train"
   ]
  },
  {
   "cell_type": "code",
   "execution_count": 23,
   "metadata": {
    "colab": {
     "base_uri": "https://localhost:8080/",
     "height": 576
    },
    "executionInfo": {
     "elapsed": 814,
     "status": "ok",
     "timestamp": 1735918125552,
     "user": {
      "displayName": "Akarsh",
      "userId": "02423875687432954389"
     },
     "user_tz": -330
    },
    "id": "b6nFozI9ptjT",
    "outputId": "9b4b6596-a482-41dd-e1b9-d07e0ccbe79c"
   },
   "outputs": [
    {
     "data": {
      "image/png": "[encoded data removed]",
      "text/plain": [
       "<Figure size 600x600 with 1 Axes>"
      ]
     },
     "metadata": {},
     "output_type": "display_data"
    }
   ],
   "source": [
    "plt.figure(figsize = (6,6), dpi = 100)\n",
    "\n",
    "plt.title(\"Cost v/s Iterations\", fontdict = {'fontsize' : 24})\n",
    "plt.xlabel(\"No. of Iterations\")\n",
    "plt.ylabel(\"Cost\")\n",
    "\n",
    "x_axis = list(range(1, n_iter+1, 1))\n",
    "y_axis = (cost_history)\n",
    "\n",
    "plt.plot(x_axis, y_axis, '-')\n",
    "\n",
    "plt.show()"
   ]
  },
  {
   "cell_type": "markdown",
   "metadata": {
    "id": "TsiOqjwKaETo"
   },
   "source": [
    "## Cross-Validation"
   ]
  },
  {
   "cell_type": "code",
   "execution_count": 24,
   "metadata": {
    "colab": {
     "base_uri": "https://localhost:8080/"
    },
    "executionInfo": {
     "elapsed": 13,
     "status": "ok",
     "timestamp": 1735918125552,
     "user": {
      "displayName": "Akarsh",
      "userId": "02423875687432954389"
     },
     "user_tz": -330
    },
    "id": "SlaQotsqYvBa",
    "outputId": "f4237be2-3494-4fcb-db81-f83ac42381e3"
   },
   "outputs": [
    {
     "data": {
      "text/plain": [
       "array([-0.73813285, -0.37597891, -1.82002673,  0.65969962,  0.44210622,\n",
       "       -0.01739217,  0.52116084,  0.40530786, -0.54043484,  1.79929782,\n",
       "        1.1998208 , -0.26538182,  0.31750763,  1.74667226, -0.88810408,\n",
       "        1.57396432,  0.27205258, -0.31946866,  0.07649184, -0.29741991])"
      ]
     },
     "execution_count": 24,
     "metadata": {},
     "output_type": "execute_result"
    }
   ],
   "source": [
    "X_cv = np.array(df.iloc[44000:, 1:21])\n",
    "np.shape(X_cv)\n",
    "Xn_cv,_,_ = lnr.normalize(X_cv, Xmean_train, Xstd_train)\n",
    "Xn_cv[0]"
   ]
  },
  {
   "cell_type": "code",
   "execution_count": 25,
   "metadata": {
    "colab": {
     "base_uri": "https://localhost:8080/"
    },
    "executionInfo": {
     "elapsed": 12,
     "status": "ok",
     "timestamp": 1735918125553,
     "user": {
      "displayName": "Akarsh",
      "userId": "02423875687432954389"
     },
     "user_tz": -330
    },
    "id": "NeQct75ObBTt",
    "outputId": "1414343e-b44c-4eff-bf9c-64fe9103e1c3"
   },
   "outputs": [
    {
     "data": {
      "text/plain": [
       "(4000,)"
      ]
     },
     "execution_count": 25,
     "metadata": {},
     "output_type": "execute_result"
    }
   ],
   "source": [
    "y_cv = np.array(df.iloc[44000:, 21])\n",
    "np.shape(y_cv)"
   ]
  },
  {
   "cell_type": "code",
   "execution_count": 26,
   "metadata": {
    "colab": {
     "base_uri": "https://localhost:8080/"
    },
    "executionInfo": {
     "elapsed": 695,
     "status": "ok",
     "timestamp": 1735918126239,
     "user": {
      "displayName": "Akarsh",
      "userId": "02423875687432954389"
     },
     "user_tz": -330
    },
    "id": "ZWN4ZoaebDSc",
    "outputId": "d131e6a6-816d-448c-b96e-1902b4d2d9af"
   },
   "outputs": [
    {
     "data": {
      "text/plain": [
       "array([0.07491375, 0.99435515, 0.90828278, ..., 0.02714257, 0.07768483,\n",
       "       0.80537817])"
      ]
     },
     "execution_count": 26,
     "metadata": {},
     "output_type": "execute_result"
    }
   ],
   "source": [
    "yhat_cv = sigmoid(lnr.predict(Xn_cv, w, b))\n",
    "yhat_cv"
   ]
  },
  {
   "cell_type": "code",
   "execution_count": 27,
   "metadata": {
    "colab": {
     "base_uri": "https://localhost:8080/"
    },
    "executionInfo": {
     "elapsed": 15,
     "status": "ok",
     "timestamp": 1735918126240,
     "user": {
      "displayName": "Akarsh",
      "userId": "02423875687432954389"
     },
     "user_tz": -330
    },
    "id": "nyJJlD7lbtbk",
    "outputId": "e270d59f-af67-4e08-f335-8fa0ed43b2d1"
   },
   "outputs": [
    {
     "data": {
      "text/plain": [
       "array([0, 1, 1, ..., 0, 0, 1])"
      ]
     },
     "execution_count": 27,
     "metadata": {},
     "output_type": "execute_result"
    }
   ],
   "source": [
    "y_pred_cv = decision(yhat_cv)\n",
    "y_pred_cv"
   ]
  },
  {
   "cell_type": "code",
   "execution_count": 28,
   "metadata": {
    "colab": {
     "base_uri": "https://localhost:8080/"
    },
    "executionInfo": {
     "elapsed": 12,
     "status": "ok",
     "timestamp": 1735918126240,
     "user": {
      "displayName": "Akarsh",
      "userId": "02423875687432954389"
     },
     "user_tz": -330
    },
    "id": "MCkSQbz_b12W",
    "outputId": "0c685cb3-7bc0-4a45-eb5c-b36d2421c869"
   },
   "outputs": [
    {
     "data": {
      "text/plain": [
       "0.93675"
      ]
     },
     "execution_count": 28,
     "metadata": {},
     "output_type": "execute_result"
    }
   ],
   "source": [
    "cv_bce = bce(y_cv, y_pred_cv)\n",
    "cv_bce"
   ]
  },
  {
   "cell_type": "code",
   "execution_count": 29,
   "metadata": {
    "colab": {
     "base_uri": "https://localhost:8080/",
     "height": 143
    },
    "executionInfo": {
     "elapsed": 10,
     "status": "ok",
     "timestamp": 1735918126240,
     "user": {
      "displayName": "Akarsh",
      "userId": "02423875687432954389"
     },
     "user_tz": -330
    },
    "id": "gQ0B3xCRgH9q",
    "outputId": "24848585-7f99-4314-f977-b49f3b19db9e"
   },
   "outputs": [
    {
     "data": {
      "application/vnd.google.colaboratory.intrinsic+json": {
       "summary": "{\n  \"name\": \"pd\",\n  \"rows\": 2,\n  \"fields\": [\n    {\n      \"column\": \"Actual\",\n      \"properties\": {\n        \"dtype\": \"number\",\n        \"std\": 0,\n        \"min\": 0,\n        \"max\": 1,\n        \"num_unique_values\": 2,\n        \"samples\": [\n          1,\n          0\n        ],\n        \"semantic_type\": \"\",\n        \"description\": \"\"\n      }\n    },\n    {\n      \"column\": 0,\n      \"properties\": {\n        \"dtype\": \"number\",\n        \"std\": 1760,\n        \"min\": 167,\n        \"max\": 2657,\n        \"num_unique_values\": 2,\n        \"samples\": [\n          167,\n          2657\n        ],\n        \"semantic_type\": \"\",\n        \"description\": \"\"\n      }\n    },\n    {\n      \"column\": 1,\n      \"properties\": {\n        \"dtype\": \"number\",\n        \"std\": 709,\n        \"min\": 86,\n        \"max\": 1090,\n        \"num_unique_values\": 2,\n        \"samples\": [\n          1090,\n          86\n        ],\n        \"semantic_type\": \"\",\n        \"description\": \"\"\n      }\n    }\n  ]\n}",
       "type": "dataframe"
      },
      "text/html": [
       "\n",
       "  <div id=\"df-e89d6a06-e32c-4e33-ab20-18458dccc95b\" class=\"colab-df-container\">\n",
       "    <div>\n",
       "<style scoped>\n",
       "    .dataframe tbody tr th:only-of-type {\n",
       "        vertical-align: middle;\n",
       "    }\n",
       "\n",
       "    .dataframe tbody tr th {\n",
       "        vertical-align: top;\n",
       "    }\n",
       "\n",
       "    .dataframe thead th {\n",
       "        text-align: right;\n",
       "    }\n",
       "</style>\n",
       "<table border=\"1\" class=\"dataframe\">\n",
       "  <thead>\n",
       "    <tr style=\"text-align: right;\">\n",
       "      <th>Predicted</th>\n",
       "      <th>0</th>\n",
       "      <th>1</th>\n",
       "    </tr>\n",
       "    <tr>\n",
       "      <th>Actual</th>\n",
       "      <th></th>\n",
       "      <th></th>\n",
       "    </tr>\n",
       "  </thead>\n",
       "  <tbody>\n",
       "    <tr>\n",
       "      <th>0</th>\n",
       "      <td>2657</td>\n",
       "      <td>86</td>\n",
       "    </tr>\n",
       "    <tr>\n",
       "      <th>1</th>\n",
       "      <td>167</td>\n",
       "      <td>1090</td>\n",
       "    </tr>\n",
       "  </tbody>\n",
       "</table>\n",
       "</div>\n",
       "    <div class=\"colab-df-buttons\">\n",
       "\n",
       "  <div class=\"colab-df-container\">\n",
       "    <button class=\"colab-df-convert\" onclick=\"convertToInteractive('df-e89d6a06-e32c-4e33-ab20-18458dccc95b')\"\n",
       "            title=\"Convert this dataframe to an interactive table.\"\n",
       "            style=\"display:none;\">\n",
       "\n",
       "  <svg xmlns=\"http://www.w3.org/2000/svg\" height=\"24px\" viewBox=\"0 -960 960 960\">\n",
       "    <path d=\"M120-120v-720h720v720H120Zm60-500h600v-160H180v160Zm220 220h160v-160H400v160Zm0 220h160v-160H400v160ZM180-400h160v-160H180v160Zm440 0h160v-160H620v160ZM180-180h160v-160H180v160Zm440 0h160v-160H620v160Z\"/>\n",
       "  </svg>\n",
       "    </button>\n",
       "\n",
       "  <style>\n",
       "    .colab-df-container {\n",
       "      display:flex;\n",
       "      gap: 12px;\n",
       "    }\n",
       "\n",
       "    .colab-df-convert {\n",
       "      background-color: #E8F0FE;\n",
       "      border: none;\n",
       "      border-radius: 50%;\n",
       "      cursor: pointer;\n",
       "      display: none;\n",
       "      fill: #1967D2;\n",
       "      height: 32px;\n",
       "      padding: 0 0 0 0;\n",
       "      width: 32px;\n",
       "    }\n",
       "\n",
       "    .colab-df-convert:hover {\n",
       "      background-color: #E2EBFA;\n",
       "      box-shadow: 0px 1px 2px rgba(60, 64, 67, 0.3), 0px 1px 3px 1px rgba(60, 64, 67, 0.15);\n",
       "      fill: #174EA6;\n",
       "    }\n",
       "\n",
       "    .colab-df-buttons div {\n",
       "      margin-bottom: 4px;\n",
       "    }\n",
       "\n",
       "    [theme=dark] .colab-df-convert {\n",
       "      background-color: #3B4455;\n",
       "      fill: #D2E3FC;\n",
       "    }\n",
       "\n",
       "    [theme=dark] .colab-df-convert:hover {\n",
       "      background-color: #434B5C;\n",
       "      box-shadow: 0px 1px 3px 1px rgba(0, 0, 0, 0.15);\n",
       "      filter: drop-shadow(0px 1px 2px rgba(0, 0, 0, 0.3));\n",
       "      fill: #FFFFFF;\n",
       "    }\n",
       "  </style>\n",
       "\n",
       "    <script>\n",
       "      const buttonEl =\n",
       "        document.querySelector('#df-e89d6a06-e32c-4e33-ab20-18458dccc95b button.colab-df-convert');\n",
       "      buttonEl.style.display =\n",
       "        google.colab.kernel.accessAllowed ? 'block' : 'none';\n",
       "\n",
       "      async function convertToInteractive(key) {\n",
       "        const element = document.querySelector('#df-e89d6a06-e32c-4e33-ab20-18458dccc95b');\n",
       "        const dataTable =\n",
       "          await google.colab.kernel.invokeFunction('convertToInteractive',\n",
       "                                                    [key], {});\n",
       "        if (!dataTable) return;\n",
       "\n",
       "        const docLinkHtml = 'Like what you see? Visit the ' +\n",
       "          '<a target=\"_blank\" href=https://colab.research.google.com/notebooks/data_table.ipynb>data table notebook</a>'\n",
       "          + ' to learn more about interactive tables.';\n",
       "        element.innerHTML = '';\n",
       "        dataTable['output_type'] = 'display_data';\n",
       "        await google.colab.output.renderOutput(dataTable, element);\n",
       "        const docLink = document.createElement('div');\n",
       "        docLink.innerHTML = docLinkHtml;\n",
       "        element.appendChild(docLink);\n",
       "      }\n",
       "    </script>\n",
       "  </div>\n",
       "\n",
       "\n",
       "<div id=\"df-9dc57773-4cc7-4cd6-a8b5-143625ef3c4a\">\n",
       "  <button class=\"colab-df-quickchart\" onclick=\"quickchart('df-9dc57773-4cc7-4cd6-a8b5-143625ef3c4a')\"\n",
       "            title=\"Suggest charts\"\n",
       "            style=\"display:none;\">\n",
       "\n",
       "<svg xmlns=\"http://www.w3.org/2000/svg\" height=\"24px\"viewBox=\"0 0 24 24\"\n",
       "     width=\"24px\">\n",
       "    <g>\n",
       "        <path d=\"M19 3H5c-1.1 0-2 .9-2 2v14c0 1.1.9 2 2 2h14c1.1 0 2-.9 2-2V5c0-1.1-.9-2-2-2zM9 17H7v-7h2v7zm4 0h-2V7h2v10zm4 0h-2v-4h2v4z\"/>\n",
       "    </g>\n",
       "</svg>\n",
       "  </button>\n",
       "\n",
       "<style>\n",
       "  .colab-df-quickchart {\n",
       "      --bg-color: #E8F0FE;\n",
       "      --fill-color: #1967D2;\n",
       "      --hover-bg-color: #E2EBFA;\n",
       "      --hover-fill-color: #174EA6;\n",
       "      --disabled-fill-color: #AAA;\n",
       "      --disabled-bg-color: #DDD;\n",
       "  }\n",
       "\n",
       "  [theme=dark] .colab-df-quickchart {\n",
       "      --bg-color: #3B4455;\n",
       "      --fill-color: #D2E3FC;\n",
       "      --hover-bg-color: #434B5C;\n",
       "      --hover-fill-color: #FFFFFF;\n",
       "      --disabled-bg-color: #3B4455;\n",
       "      --disabled-fill-color: #666;\n",
       "  }\n",
       "\n",
       "  .colab-df-quickchart {\n",
       "    background-color: var(--bg-color);\n",
       "    border: none;\n",
       "    border-radius: 50%;\n",
       "    cursor: pointer;\n",
       "    display: none;\n",
       "    fill: var(--fill-color);\n",
       "    height: 32px;\n",
       "    padding: 0;\n",
       "    width: 32px;\n",
       "  }\n",
       "\n",
       "  .colab-df-quickchart:hover {\n",
       "    background-color: var(--hover-bg-color);\n",
       "    box-shadow: 0 1px 2px rgba(60, 64, 67, 0.3), 0 1px 3px 1px rgba(60, 64, 67, 0.15);\n",
       "    fill: var(--button-hover-fill-color);\n",
       "  }\n",
       "\n",
       "  .colab-df-quickchart-complete:disabled,\n",
       "  .colab-df-quickchart-complete:disabled:hover {\n",
       "    background-color: var(--disabled-bg-color);\n",
       "    fill: var(--disabled-fill-color);\n",
       "    box-shadow: none;\n",
       "  }\n",
       "\n",
       "  .colab-df-spinner {\n",
       "    border: 2px solid var(--fill-color);\n",
       "    border-color: transparent;\n",
       "    border-bottom-color: var(--fill-color);\n",
       "    animation:\n",
       "      spin 1s steps(1) infinite;\n",
       "  }\n",
       "\n",
       "  @keyframes spin {\n",
       "    0% {\n",
       "      border-color: transparent;\n",
       "      border-bottom-color: var(--fill-color);\n",
       "      border-left-color: var(--fill-color);\n",
       "    }\n",
       "    20% {\n",
       "      border-color: transparent;\n",
       "      border-left-color: var(--fill-color);\n",
       "      border-top-color: var(--fill-color);\n",
       "    }\n",
       "    30% {\n",
       "      border-color: transparent;\n",
       "      border-left-color: var(--fill-color);\n",
       "      border-top-color: var(--fill-color);\n",
       "      border-right-color: var(--fill-color);\n",
       "    }\n",
       "    40% {\n",
       "      border-color: transparent;\n",
       "      border-right-color: var(--fill-color);\n",
       "      border-top-color: var(--fill-color);\n",
       "    }\n",
       "    60% {\n",
       "      border-color: transparent;\n",
       "      border-right-color: var(--fill-color);\n",
       "    }\n",
       "    80% {\n",
       "      border-color: transparent;\n",
       "      border-right-color: var(--fill-color);\n",
       "      border-bottom-color: var(--fill-color);\n",
       "    }\n",
       "    90% {\n",
       "      border-color: transparent;\n",
       "      border-bottom-color: var(--fill-color);\n",
       "    }\n",
       "  }\n",
       "</style>\n",
       "\n",
       "  <script>\n",
       "    async function quickchart(key) {\n",
       "      const quickchartButtonEl =\n",
       "        document.querySelector('#' + key + ' button');\n",
       "      quickchartButtonEl.disabled = true;  // To prevent multiple clicks.\n",
       "      quickchartButtonEl.classList.add('colab-df-spinner');\n",
       "      try {\n",
       "        const charts = await google.colab.kernel.invokeFunction(\n",
       "            'suggestCharts', [key], {});\n",
       "      } catch (error) {\n",
       "        console.error('Error during call to suggestCharts:', error);\n",
       "      }\n",
       "      quickchartButtonEl.classList.remove('colab-df-spinner');\n",
       "      quickchartButtonEl.classList.add('colab-df-quickchart-complete');\n",
       "    }\n",
       "    (() => {\n",
       "      let quickchartButtonEl =\n",
       "        document.querySelector('#df-9dc57773-4cc7-4cd6-a8b5-143625ef3c4a button');\n",
       "      quickchartButtonEl.style.display =\n",
       "        google.colab.kernel.accessAllowed ? 'block' : 'none';\n",
       "    })();\n",
       "  </script>\n",
       "</div>\n",
       "\n",
       "    </div>\n",
       "  </div>\n"
      ],
      "text/plain": [
       "Predicted     0     1\n",
       "Actual               \n",
       "0          2657    86\n",
       "1           167  1090"
      ]
     },
     "execution_count": 29,
     "metadata": {},
     "output_type": "execute_result"
    }
   ],
   "source": [
    "# Confusion Matrix\n",
    "pd.crosstab(y_cv, y_pred_cv, rownames = ['Actual'], colnames = ['Predicted'])"
   ]
  },
  {
   "cell_type": "code",
   "execution_count": 30,
   "metadata": {
    "colab": {
     "base_uri": "https://localhost:8080/"
    },
    "executionInfo": {
     "elapsed": 9,
     "status": "ok",
     "timestamp": 1735918126240,
     "user": {
      "displayName": "Akarsh",
      "userId": "02423875687432954389"
     },
     "user_tz": -330
    },
    "id": "VSjowRIygH9s",
    "outputId": "b7beaacc-bc3f-42cc-d10a-c247100f6bfe"
   },
   "outputs": [
    {
     "data": {
      "text/plain": [
       "0.896013152486642"
      ]
     },
     "execution_count": 30,
     "metadata": {},
     "output_type": "execute_result"
    }
   ],
   "source": [
    "F1_cv = f1_score(y_cv, y_pred_cv)\n",
    "F1_cv"
   ]
  },
  {
   "cell_type": "markdown",
   "metadata": {
    "id": "HzYyXh7pjmpq"
   },
   "source": [
    "## Quadratic"
   ]
  },
  {
   "cell_type": "code",
   "execution_count": 31,
   "metadata": {
    "colab": {
     "base_uri": "https://localhost:8080/"
    },
    "executionInfo": {
     "elapsed": 517,
     "status": "ok",
     "timestamp": 1735918126750,
     "user": {
      "displayName": "Akarsh",
      "userId": "02423875687432954389"
     },
     "user_tz": -330
    },
    "id": "dHpZzf5CJYQP",
    "outputId": "57989a31-9bba-4e48-be03-e97e2c559c59"
   },
   "outputs": [
    {
     "name": "stdout",
     "output_type": "stream",
     "text": [
      "(44000, 230)\n"
     ]
    }
   ],
   "source": [
    "X_quad = pr.gen_poly(X_train, 2)\n",
    "X_quad, X_quad_mean, X_quad_std = lnr.normalize(X_quad)\n",
    "print(np.shape(X_quad))"
   ]
  },
  {
   "cell_type": "code",
   "execution_count": 32,
   "metadata": {
    "colab": {
     "base_uri": "https://localhost:8080/"
    },
    "executionInfo": {
     "elapsed": 5,
     "status": "ok",
     "timestamp": 1735918126751,
     "user": {
      "displayName": "Akarsh",
      "userId": "02423875687432954389"
     },
     "user_tz": -330
    },
    "id": "6NQHPjOSLRn9",
    "outputId": "0784cf29-217f-401e-cddc-cf65df9e3484"
   },
   "outputs": [
    {
     "name": "stdout",
     "output_type": "stream",
     "text": [
      "(230,)\n"
     ]
    }
   ],
   "source": [
    "w_quad = np.random.rand(np.shape(X_quad)[1])\n",
    "print(np.shape(w_quad))\n",
    "b_quad = 0"
   ]
  },
  {
   "cell_type": "code",
   "execution_count": 33,
   "metadata": {
    "colab": {
     "base_uri": "https://localhost:8080/"
    },
    "executionInfo": {
     "elapsed": 4,
     "status": "ok",
     "timestamp": 1735918126751,
     "user": {
      "displayName": "Akarsh",
      "userId": "02423875687432954389"
     },
     "user_tz": -330
    },
    "id": "H4SNkc9vuKeD",
    "outputId": "33ffdeeb-d9a1-49c9-d3db-0e810111efe2"
   },
   "outputs": [
    {
     "name": "stdout",
     "output_type": "stream",
     "text": [
      "(230,)\n"
     ]
    }
   ],
   "source": [
    "w_quad = np.zeros(np.shape(X_quad)[1])\n",
    "print(np.shape(w_quad))\n",
    "b_quad = 0"
   ]
  },
  {
   "cell_type": "code",
   "execution_count": 34,
   "metadata": {
    "colab": {
     "base_uri": "https://localhost:8080/"
    },
    "executionInfo": {
     "elapsed": 81174,
     "status": "ok",
     "timestamp": 1735918207921,
     "user": {
      "displayName": "Akarsh",
      "userId": "02423875687432954389"
     },
     "user_tz": -330
    },
    "id": "6nDGp3bOjYNJ",
    "outputId": "ab770984-431b-4bf5-dc15-acefb06d01cd"
   },
   "outputs": [
    {
     "name": "stdout",
     "output_type": "stream",
     "text": [
      "Cost at iteration 0: 0.6931471805599453\n",
      "Cost at iteration 200: 0.22288888282998737\n",
      "Cost at iteration 400: 0.22091538838831382\n",
      "Cost at iteration 600: 0.22021931645503695\n",
      "Cost at iteration 800: 0.21990086642302503\n",
      "Cost at iteration 1000: 0.2197341738697284\n",
      "Cost at iteration 1200: 0.21963821351786697\n",
      "Cost at iteration 1400: 0.21957835965474215\n",
      "Cost at iteration 1600: 0.21953833025357214\n",
      "Cost at iteration 1800: 0.2195099144211762\n",
      "Cost at iteration 2000: 0.21948880384181865\n"
     ]
    }
   ],
   "source": [
    "n_iter_quad = 2000\n",
    "alpha = 0.9\n",
    "(w_quad, b_quad, cost_history_quad) = logistic_gradient_descent(X_quad, w_quad, b_quad, y_train, n_iter_quad, alpha)"
   ]
  },
  {
   "cell_type": "code",
   "execution_count": 35,
   "metadata": {
    "colab": {
     "base_uri": "https://localhost:8080/"
    },
    "executionInfo": {
     "elapsed": 27,
     "status": "ok",
     "timestamp": 1735918207921,
     "user": {
      "displayName": "Akarsh",
      "userId": "02423875687432954389"
     },
     "user_tz": -330
    },
    "id": "ECcjLOAZNKwo",
    "outputId": "5baf1681-f0a6-4a2a-a11c-625b83391c09"
   },
   "outputs": [
    {
     "name": "stdout",
     "output_type": "stream",
     "text": [
      "[-3.87177321  3.16010691 -3.62239393 ... -3.63046764  4.12031692\n",
      " -3.81426478]\n",
      "[0 1 0 ... 0 1 0]\n"
     ]
    }
   ],
   "source": [
    "yhat_quad = lnr.predict(X_quad, w_quad, b_quad)\n",
    "print(yhat_quad)\n",
    "y_pred_quad_train = decision(yhat_quad)\n",
    "print(y_pred_quad_train)"
   ]
  },
  {
   "cell_type": "code",
   "execution_count": 36,
   "metadata": {
    "colab": {
     "base_uri": "https://localhost:8080/",
     "height": 143
    },
    "executionInfo": {
     "elapsed": 26,
     "status": "ok",
     "timestamp": 1735918207922,
     "user": {
      "displayName": "Akarsh",
      "userId": "02423875687432954389"
     },
     "user_tz": -330
    },
    "id": "4YKtBNHmlsKP",
    "outputId": "29efd1d3-a6db-494d-e250-a96602d0d44b"
   },
   "outputs": [
    {
     "data": {
      "application/vnd.google.colaboratory.intrinsic+json": {
       "summary": "{\n  \"name\": \"pd\",\n  \"rows\": 2,\n  \"fields\": [\n    {\n      \"column\": \"Actual\",\n      \"properties\": {\n        \"dtype\": \"number\",\n        \"std\": 0,\n        \"min\": 0,\n        \"max\": 1,\n        \"num_unique_values\": 2,\n        \"samples\": [\n          1,\n          0\n        ],\n        \"semantic_type\": \"\",\n        \"description\": \"\"\n      }\n    },\n    {\n      \"column\": 0,\n      \"properties\": {\n        \"dtype\": \"number\",\n        \"std\": 19361,\n        \"min\": 1968,\n        \"max\": 29349,\n        \"num_unique_values\": 2,\n        \"samples\": [\n          1968,\n          29349\n        ],\n        \"semantic_type\": \"\",\n        \"description\": \"\"\n      }\n    },\n    {\n      \"column\": 1,\n      \"properties\": {\n        \"dtype\": \"number\",\n        \"std\": 8085,\n        \"min\": 624,\n        \"max\": 12059,\n        \"num_unique_values\": 2,\n        \"samples\": [\n          12059,\n          624\n        ],\n        \"semantic_type\": \"\",\n        \"description\": \"\"\n      }\n    }\n  ]\n}",
       "type": "dataframe"
      },
      "text/html": [
       "\n",
       "  <div id=\"df-fc323ab9-c1e8-41ad-a3b4-f4f219f09132\" class=\"colab-df-container\">\n",
       "    <div>\n",
       "<style scoped>\n",
       "    .dataframe tbody tr th:only-of-type {\n",
       "        vertical-align: middle;\n",
       "    }\n",
       "\n",
       "    .dataframe tbody tr th {\n",
       "        vertical-align: top;\n",
       "    }\n",
       "\n",
       "    .dataframe thead th {\n",
       "        text-align: right;\n",
       "    }\n",
       "</style>\n",
       "<table border=\"1\" class=\"dataframe\">\n",
       "  <thead>\n",
       "    <tr style=\"text-align: right;\">\n",
       "      <th>Predicted</th>\n",
       "      <th>0</th>\n",
       "      <th>1</th>\n",
       "    </tr>\n",
       "    <tr>\n",
       "      <th>Actual</th>\n",
       "      <th></th>\n",
       "      <th></th>\n",
       "    </tr>\n",
       "  </thead>\n",
       "  <tbody>\n",
       "    <tr>\n",
       "      <th>0</th>\n",
       "      <td>29349</td>\n",
       "      <td>624</td>\n",
       "    </tr>\n",
       "    <tr>\n",
       "      <th>1</th>\n",
       "      <td>1968</td>\n",
       "      <td>12059</td>\n",
       "    </tr>\n",
       "  </tbody>\n",
       "</table>\n",
       "</div>\n",
       "    <div class=\"colab-df-buttons\">\n",
       "\n",
       "  <div class=\"colab-df-container\">\n",
       "    <button class=\"colab-df-convert\" onclick=\"convertToInteractive('df-fc323ab9-c1e8-41ad-a3b4-f4f219f09132')\"\n",
       "            title=\"Convert this dataframe to an interactive table.\"\n",
       "            style=\"display:none;\">\n",
       "\n",
       "  <svg xmlns=\"http://www.w3.org/2000/svg\" height=\"24px\" viewBox=\"0 -960 960 960\">\n",
       "    <path d=\"M120-120v-720h720v720H120Zm60-500h600v-160H180v160Zm220 220h160v-160H400v160Zm0 220h160v-160H400v160ZM180-400h160v-160H180v160Zm440 0h160v-160H620v160ZM180-180h160v-160H180v160Zm440 0h160v-160H620v160Z\"/>\n",
       "  </svg>\n",
       "    </button>\n",
       "\n",
       "  <style>\n",
       "    .colab-df-container {\n",
       "      display:flex;\n",
       "      gap: 12px;\n",
       "    }\n",
       "\n",
       "    .colab-df-convert {\n",
       "      background-color: #E8F0FE;\n",
       "      border: none;\n",
       "      border-radius: 50%;\n",
       "      cursor: pointer;\n",
       "      display: none;\n",
       "      fill: #1967D2;\n",
       "      height: 32px;\n",
       "      padding: 0 0 0 0;\n",
       "      width: 32px;\n",
       "    }\n",
       "\n",
       "    .colab-df-convert:hover {\n",
       "      background-color: #E2EBFA;\n",
       "      box-shadow: 0px 1px 2px rgba(60, 64, 67, 0.3), 0px 1px 3px 1px rgba(60, 64, 67, 0.15);\n",
       "      fill: #174EA6;\n",
       "    }\n",
       "\n",
       "    .colab-df-buttons div {\n",
       "      margin-bottom: 4px;\n",
       "    }\n",
       "\n",
       "    [theme=dark] .colab-df-convert {\n",
       "      background-color: #3B4455;\n",
       "      fill: #D2E3FC;\n",
       "    }\n",
       "\n",
       "    [theme=dark] .colab-df-convert:hover {\n",
       "      background-color: #434B5C;\n",
       "      box-shadow: 0px 1px 3px 1px rgba(0, 0, 0, 0.15);\n",
       "      filter: drop-shadow(0px 1px 2px rgba(0, 0, 0, 0.3));\n",
       "      fill: #FFFFFF;\n",
       "    }\n",
       "  </style>\n",
       "\n",
       "    <script>\n",
       "      const buttonEl =\n",
       "        document.querySelector('#df-fc323ab9-c1e8-41ad-a3b4-f4f219f09132 button.colab-df-convert');\n",
       "      buttonEl.style.display =\n",
       "        google.colab.kernel.accessAllowed ? 'block' : 'none';\n",
       "\n",
       "      async function convertToInteractive(key) {\n",
       "        const element = document.querySelector('#df-fc323ab9-c1e8-41ad-a3b4-f4f219f09132');\n",
       "        const dataTable =\n",
       "          await google.colab.kernel.invokeFunction('convertToInteractive',\n",
       "                                                    [key], {});\n",
       "        if (!dataTable) return;\n",
       "\n",
       "        const docLinkHtml = 'Like what you see? Visit the ' +\n",
       "          '<a target=\"_blank\" href=https://colab.research.google.com/notebooks/data_table.ipynb>data table notebook</a>'\n",
       "          + ' to learn more about interactive tables.';\n",
       "        element.innerHTML = '';\n",
       "        dataTable['output_type'] = 'display_data';\n",
       "        await google.colab.output.renderOutput(dataTable, element);\n",
       "        const docLink = document.createElement('div');\n",
       "        docLink.innerHTML = docLinkHtml;\n",
       "        element.appendChild(docLink);\n",
       "      }\n",
       "    </script>\n",
       "  </div>\n",
       "\n",
       "\n",
       "<div id=\"df-d9531d0f-5500-47f3-b065-ae43f4220982\">\n",
       "  <button class=\"colab-df-quickchart\" onclick=\"quickchart('df-d9531d0f-5500-47f3-b065-ae43f4220982')\"\n",
       "            title=\"Suggest charts\"\n",
       "            style=\"display:none;\">\n",
       "\n",
       "<svg xmlns=\"http://www.w3.org/2000/svg\" height=\"24px\"viewBox=\"0 0 24 24\"\n",
       "     width=\"24px\">\n",
       "    <g>\n",
       "        <path d=\"M19 3H5c-1.1 0-2 .9-2 2v14c0 1.1.9 2 2 2h14c1.1 0 2-.9 2-2V5c0-1.1-.9-2-2-2zM9 17H7v-7h2v7zm4 0h-2V7h2v10zm4 0h-2v-4h2v4z\"/>\n",
       "    </g>\n",
       "</svg>\n",
       "  </button>\n",
       "\n",
       "<style>\n",
       "  .colab-df-quickchart {\n",
       "      --bg-color: #E8F0FE;\n",
       "      --fill-color: #1967D2;\n",
       "      --hover-bg-color: #E2EBFA;\n",
       "      --hover-fill-color: #174EA6;\n",
       "      --disabled-fill-color: #AAA;\n",
       "      --disabled-bg-color: #DDD;\n",
       "  }\n",
       "\n",
       "  [theme=dark] .colab-df-quickchart {\n",
       "      --bg-color: #3B4455;\n",
       "      --fill-color: #D2E3FC;\n",
       "      --hover-bg-color: #434B5C;\n",
       "      --hover-fill-color: #FFFFFF;\n",
       "      --disabled-bg-color: #3B4455;\n",
       "      --disabled-fill-color: #666;\n",
       "  }\n",
       "\n",
       "  .colab-df-quickchart {\n",
       "    background-color: var(--bg-color);\n",
       "    border: none;\n",
       "    border-radius: 50%;\n",
       "    cursor: pointer;\n",
       "    display: none;\n",
       "    fill: var(--fill-color);\n",
       "    height: 32px;\n",
       "    padding: 0;\n",
       "    width: 32px;\n",
       "  }\n",
       "\n",
       "  .colab-df-quickchart:hover {\n",
       "    background-color: var(--hover-bg-color);\n",
       "    box-shadow: 0 1px 2px rgba(60, 64, 67, 0.3), 0 1px 3px 1px rgba(60, 64, 67, 0.15);\n",
       "    fill: var(--button-hover-fill-color);\n",
       "  }\n",
       "\n",
       "  .colab-df-quickchart-complete:disabled,\n",
       "  .colab-df-quickchart-complete:disabled:hover {\n",
       "    background-color: var(--disabled-bg-color);\n",
       "    fill: var(--disabled-fill-color);\n",
       "    box-shadow: none;\n",
       "  }\n",
       "\n",
       "  .colab-df-spinner {\n",
       "    border: 2px solid var(--fill-color);\n",
       "    border-color: transparent;\n",
       "    border-bottom-color: var(--fill-color);\n",
       "    animation:\n",
       "      spin 1s steps(1) infinite;\n",
       "  }\n",
       "\n",
       "  @keyframes spin {\n",
       "    0% {\n",
       "      border-color: transparent;\n",
       "      border-bottom-color: var(--fill-color);\n",
       "      border-left-color: var(--fill-color);\n",
       "    }\n",
       "    20% {\n",
       "      border-color: transparent;\n",
       "      border-left-color: var(--fill-color);\n",
       "      border-top-color: var(--fill-color);\n",
       "    }\n",
       "    30% {\n",
       "      border-color: transparent;\n",
       "      border-left-color: var(--fill-color);\n",
       "      border-top-color: var(--fill-color);\n",
       "      border-right-color: var(--fill-color);\n",
       "    }\n",
       "    40% {\n",
       "      border-color: transparent;\n",
       "      border-right-color: var(--fill-color);\n",
       "      border-top-color: var(--fill-color);\n",
       "    }\n",
       "    60% {\n",
       "      border-color: transparent;\n",
       "      border-right-color: var(--fill-color);\n",
       "    }\n",
       "    80% {\n",
       "      border-color: transparent;\n",
       "      border-right-color: var(--fill-color);\n",
       "      border-bottom-color: var(--fill-color);\n",
       "    }\n",
       "    90% {\n",
       "      border-color: transparent;\n",
       "      border-bottom-color: var(--fill-color);\n",
       "    }\n",
       "  }\n",
       "</style>\n",
       "\n",
       "  <script>\n",
       "    async function quickchart(key) {\n",
       "      const quickchartButtonEl =\n",
       "        document.querySelector('#' + key + ' button');\n",
       "      quickchartButtonEl.disabled = true;  // To prevent multiple clicks.\n",
       "      quickchartButtonEl.classList.add('colab-df-spinner');\n",
       "      try {\n",
       "        const charts = await google.colab.kernel.invokeFunction(\n",
       "            'suggestCharts', [key], {});\n",
       "      } catch (error) {\n",
       "        console.error('Error during call to suggestCharts:', error);\n",
       "      }\n",
       "      quickchartButtonEl.classList.remove('colab-df-spinner');\n",
       "      quickchartButtonEl.classList.add('colab-df-quickchart-complete');\n",
       "    }\n",
       "    (() => {\n",
       "      let quickchartButtonEl =\n",
       "        document.querySelector('#df-d9531d0f-5500-47f3-b065-ae43f4220982 button');\n",
       "      quickchartButtonEl.style.display =\n",
       "        google.colab.kernel.accessAllowed ? 'block' : 'none';\n",
       "    })();\n",
       "  </script>\n",
       "</div>\n",
       "\n",
       "    </div>\n",
       "  </div>\n"
      ],
      "text/plain": [
       "Predicted      0      1\n",
       "Actual                 \n",
       "0          29349    624\n",
       "1           1968  12059"
      ]
     },
     "execution_count": 36,
     "metadata": {},
     "output_type": "execute_result"
    }
   ],
   "source": [
    "# Confusion Matrix\n",
    "pd.crosstab(y_train, y_pred_quad_train, rownames = ['Actual'], colnames = ['Predicted'])"
   ]
  },
  {
   "cell_type": "code",
   "execution_count": 37,
   "metadata": {
    "colab": {
     "base_uri": "https://localhost:8080/"
    },
    "executionInfo": {
     "elapsed": 23,
     "status": "ok",
     "timestamp": 1735918207922,
     "user": {
      "displayName": "Akarsh",
      "userId": "02423875687432954389"
     },
     "user_tz": -330
    },
    "id": "qwSn-W00mChF",
    "outputId": "13466d8d-c06c-468d-fbf1-9094c1ec435b"
   },
   "outputs": [
    {
     "data": {
      "text/plain": [
       "0.90295769374766"
      ]
     },
     "execution_count": 37,
     "metadata": {},
     "output_type": "execute_result"
    }
   ],
   "source": [
    "F1_quad_train = f1_score(y_train, yhat_quad)\n",
    "F1_quad_train"
   ]
  },
  {
   "cell_type": "code",
   "execution_count": 38,
   "metadata": {
    "colab": {
     "base_uri": "https://localhost:8080/"
    },
    "executionInfo": {
     "elapsed": 19,
     "status": "ok",
     "timestamp": 1735918207922,
     "user": {
      "displayName": "Akarsh",
      "userId": "02423875687432954389"
     },
     "user_tz": -330
    },
    "id": "-q88vgB4sX0s",
    "outputId": "a89bce76-3426-4142-c29a-ca938ce9b45a"
   },
   "outputs": [
    {
     "name": "stdout",
     "output_type": "stream",
     "text": [
      "(4000, 230)\n"
     ]
    }
   ],
   "source": [
    "X_quad_cv = pr.gen_poly(X_cv, 2)\n",
    "X_quad_cv,_,_ = lnr.normalize(X_quad_cv, X_quad_mean, X_quad_std)\n",
    "print(np.shape(X_quad_cv))"
   ]
  },
  {
   "cell_type": "code",
   "execution_count": 39,
   "metadata": {
    "colab": {
     "base_uri": "https://localhost:8080/"
    },
    "executionInfo": {
     "elapsed": 16,
     "status": "ok",
     "timestamp": 1735918207922,
     "user": {
      "displayName": "Akarsh",
      "userId": "02423875687432954389"
     },
     "user_tz": -330
    },
    "id": "ryQjK7VFsf6J",
    "outputId": "f9de73d7-93b2-4e05-d28e-747cbbd984f1"
   },
   "outputs": [
    {
     "name": "stdout",
     "output_type": "stream",
     "text": [
      "[0.06086585 0.91042508 0.89605256 ... 0.04488125 0.01371311 0.94105653]\n",
      "[0 1 1 ... 0 0 1]\n"
     ]
    }
   ],
   "source": [
    "yhat_quad_cv = sigmoid(lnr.predict(X_quad_cv, w_quad, b_quad))\n",
    "print(yhat_quad_cv)\n",
    "y_pred_quad_cv = decision(yhat_quad_cv)\n",
    "print(y_pred_quad_cv)"
   ]
  },
  {
   "cell_type": "code",
   "execution_count": 40,
   "metadata": {
    "colab": {
     "base_uri": "https://localhost:8080/"
    },
    "executionInfo": {
     "elapsed": 16,
     "status": "ok",
     "timestamp": 1735918207924,
     "user": {
      "displayName": "Akarsh",
      "userId": "02423875687432954389"
     },
     "user_tz": -330
    },
    "id": "PCd3DU3_m0tl",
    "outputId": "fb64cf1b-f82f-4bb4-dc46-470438dceac4"
   },
   "outputs": [
    {
     "data": {
      "text/plain": [
       "0.9098360655737705"
      ]
     },
     "execution_count": 40,
     "metadata": {},
     "output_type": "execute_result"
    }
   ],
   "source": [
    "F1_quad_cv = f1_score(y_cv, yhat_quad_cv)\n",
    "F1_quad_cv"
   ]
  },
  {
   "cell_type": "markdown",
   "metadata": {
    "id": "BVACb_iMs_bM"
   },
   "source": [
    "# Testing Dataset"
   ]
  },
  {
   "cell_type": "code",
   "execution_count": 3,
   "metadata": {
    "colab": {
     "base_uri": "https://localhost:8080/",
     "height": 0
    },
    "executionInfo": {
     "elapsed": 504,
     "status": "ok",
     "timestamp": 1735918208415,
     "user": {
      "displayName": "Akarsh",
      "userId": "02423875687432954389"
     },
     "user_tz": -330
    },
    "id": "sJTBM2Ggs0dr",
    "outputId": "80042a84-59b7-4534-8fe6-c169882a7bd8"
   },
   "outputs": [
    {
     "data": {
      "text/html": [
       "<div>\n",
       "<style scoped>\n",
       "    .dataframe tbody tr th:only-of-type {\n",
       "        vertical-align: middle;\n",
       "    }\n",
       "\n",
       "    .dataframe tbody tr th {\n",
       "        vertical-align: top;\n",
       "    }\n",
       "\n",
       "    .dataframe thead th {\n",
       "        text-align: right;\n",
       "    }\n",
       "</style>\n",
       "<table border=\"1\" class=\"dataframe\">\n",
       "  <thead>\n",
       "    <tr style=\"text-align: right;\">\n",
       "      <th></th>\n",
       "      <th>ID</th>\n",
       "      <th>Feature_1</th>\n",
       "      <th>Feature_2</th>\n",
       "      <th>Feature_3</th>\n",
       "      <th>Feature_4</th>\n",
       "      <th>Feature_5</th>\n",
       "      <th>Feature_6</th>\n",
       "      <th>Feature_7</th>\n",
       "      <th>Feature_8</th>\n",
       "      <th>Feature_9</th>\n",
       "      <th>...</th>\n",
       "      <th>Feature_11</th>\n",
       "      <th>Feature_12</th>\n",
       "      <th>Feature_13</th>\n",
       "      <th>Feature_14</th>\n",
       "      <th>Feature_15</th>\n",
       "      <th>Feature_16</th>\n",
       "      <th>Feature_17</th>\n",
       "      <th>Feature_18</th>\n",
       "      <th>Feature_19</th>\n",
       "      <th>Feature_20</th>\n",
       "    </tr>\n",
       "  </thead>\n",
       "  <tbody>\n",
       "    <tr>\n",
       "      <th>0</th>\n",
       "      <td>1</td>\n",
       "      <td>-21.263636</td>\n",
       "      <td>-101.510764</td>\n",
       "      <td>70.115563</td>\n",
       "      <td>-67.257828</td>\n",
       "      <td>60.603386</td>\n",
       "      <td>-14.047965</td>\n",
       "      <td>-20.077225</td>\n",
       "      <td>-39.171738</td>\n",
       "      <td>-109.037261</td>\n",
       "      <td>...</td>\n",
       "      <td>7.362312</td>\n",
       "      <td>-55.689290</td>\n",
       "      <td>11.794318</td>\n",
       "      <td>-192.876941</td>\n",
       "      <td>174.389915</td>\n",
       "      <td>-56.913898</td>\n",
       "      <td>-66.920817</td>\n",
       "      <td>136.880728</td>\n",
       "      <td>-53.746527</td>\n",
       "      <td>-88.624312</td>\n",
       "    </tr>\n",
       "    <tr>\n",
       "      <th>1</th>\n",
       "      <td>2</td>\n",
       "      <td>-28.646489</td>\n",
       "      <td>-104.090028</td>\n",
       "      <td>124.098974</td>\n",
       "      <td>-45.906780</td>\n",
       "      <td>85.691869</td>\n",
       "      <td>91.241763</td>\n",
       "      <td>-2.532164</td>\n",
       "      <td>-43.701116</td>\n",
       "      <td>-151.491278</td>\n",
       "      <td>...</td>\n",
       "      <td>-45.258211</td>\n",
       "      <td>-55.069378</td>\n",
       "      <td>11.297918</td>\n",
       "      <td>-212.560404</td>\n",
       "      <td>330.864084</td>\n",
       "      <td>-39.186926</td>\n",
       "      <td>-52.041948</td>\n",
       "      <td>155.040051</td>\n",
       "      <td>-43.390476</td>\n",
       "      <td>-85.584791</td>\n",
       "    </tr>\n",
       "    <tr>\n",
       "      <th>2</th>\n",
       "      <td>3</td>\n",
       "      <td>-34.084427</td>\n",
       "      <td>-149.471464</td>\n",
       "      <td>131.883193</td>\n",
       "      <td>96.372918</td>\n",
       "      <td>41.865528</td>\n",
       "      <td>-14.692982</td>\n",
       "      <td>25.448955</td>\n",
       "      <td>-56.218421</td>\n",
       "      <td>-179.342647</td>\n",
       "      <td>...</td>\n",
       "      <td>-29.196270</td>\n",
       "      <td>-34.475233</td>\n",
       "      <td>0.030514</td>\n",
       "      <td>-41.534695</td>\n",
       "      <td>-36.002752</td>\n",
       "      <td>-90.759938</td>\n",
       "      <td>5.575351</td>\n",
       "      <td>201.929910</td>\n",
       "      <td>-40.225772</td>\n",
       "      <td>-86.235677</td>\n",
       "    </tr>\n",
       "    <tr>\n",
       "      <th>3</th>\n",
       "      <td>4</td>\n",
       "      <td>-38.905587</td>\n",
       "      <td>-126.038930</td>\n",
       "      <td>86.480118</td>\n",
       "      <td>-76.173919</td>\n",
       "      <td>98.722116</td>\n",
       "      <td>15.411935</td>\n",
       "      <td>-35.391915</td>\n",
       "      <td>-23.142612</td>\n",
       "      <td>-109.017318</td>\n",
       "      <td>...</td>\n",
       "      <td>-49.361568</td>\n",
       "      <td>-103.689725</td>\n",
       "      <td>12.311099</td>\n",
       "      <td>-188.698902</td>\n",
       "      <td>229.626393</td>\n",
       "      <td>-35.442610</td>\n",
       "      <td>-72.384866</td>\n",
       "      <td>100.019033</td>\n",
       "      <td>-56.657687</td>\n",
       "      <td>-83.543328</td>\n",
       "    </tr>\n",
       "    <tr>\n",
       "      <th>4</th>\n",
       "      <td>5</td>\n",
       "      <td>-41.041415</td>\n",
       "      <td>-124.302646</td>\n",
       "      <td>89.549410</td>\n",
       "      <td>-98.980090</td>\n",
       "      <td>72.425692</td>\n",
       "      <td>15.907022</td>\n",
       "      <td>5.400643</td>\n",
       "      <td>-32.267154</td>\n",
       "      <td>-181.961829</td>\n",
       "      <td>...</td>\n",
       "      <td>-3.392246</td>\n",
       "      <td>-27.353560</td>\n",
       "      <td>13.073419</td>\n",
       "      <td>-138.289303</td>\n",
       "      <td>151.146083</td>\n",
       "      <td>-60.065501</td>\n",
       "      <td>-45.043483</td>\n",
       "      <td>196.572356</td>\n",
       "      <td>-58.595875</td>\n",
       "      <td>-81.748002</td>\n",
       "    </tr>\n",
       "  </tbody>\n",
       "</table>\n",
       "<p>5 rows × 21 columns</p>\n",
       "</div>"
      ],
      "text/plain": [
       "   ID  Feature_1   Feature_2   Feature_3  Feature_4  Feature_5  Feature_6  \\\n",
       "0   1 -21.263636 -101.510764   70.115563 -67.257828  60.603386 -14.047965   \n",
       "1   2 -28.646489 -104.090028  124.098974 -45.906780  85.691869  91.241763   \n",
       "2   3 -34.084427 -149.471464  131.883193  96.372918  41.865528 -14.692982   \n",
       "3   4 -38.905587 -126.038930   86.480118 -76.173919  98.722116  15.411935   \n",
       "4   5 -41.041415 -124.302646   89.549410 -98.980090  72.425692  15.907022   \n",
       "\n",
       "   Feature_7  Feature_8   Feature_9  ...  Feature_11  Feature_12  Feature_13  \\\n",
       "0 -20.077225 -39.171738 -109.037261  ...    7.362312  -55.689290   11.794318   \n",
       "1  -2.532164 -43.701116 -151.491278  ...  -45.258211  -55.069378   11.297918   \n",
       "2  25.448955 -56.218421 -179.342647  ...  -29.196270  -34.475233    0.030514   \n",
       "3 -35.391915 -23.142612 -109.017318  ...  -49.361568 -103.689725   12.311099   \n",
       "4   5.400643 -32.267154 -181.961829  ...   -3.392246  -27.353560   13.073419   \n",
       "\n",
       "   Feature_14  Feature_15  Feature_16  Feature_17  Feature_18  Feature_19  \\\n",
       "0 -192.876941  174.389915  -56.913898  -66.920817  136.880728  -53.746527   \n",
       "1 -212.560404  330.864084  -39.186926  -52.041948  155.040051  -43.390476   \n",
       "2  -41.534695  -36.002752  -90.759938    5.575351  201.929910  -40.225772   \n",
       "3 -188.698902  229.626393  -35.442610  -72.384866  100.019033  -56.657687   \n",
       "4 -138.289303  151.146083  -60.065501  -45.043483  196.572356  -58.595875   \n",
       "\n",
       "   Feature_20  \n",
       "0  -88.624312  \n",
       "1  -85.584791  \n",
       "2  -86.235677  \n",
       "3  -83.543328  \n",
       "4  -81.748002  \n",
       "\n",
       "[5 rows x 21 columns]"
      ]
     },
     "execution_count": 3,
     "metadata": {},
     "output_type": "execute_result"
    }
   ],
   "source": [
    "df_test = pd.read_csv(\"/datasets/binary_classification_test.csv\")\n",
    "df_test.head()"
   ]
  },
  {
   "cell_type": "code",
   "execution_count": 42,
   "metadata": {
    "colab": {
     "base_uri": "https://localhost:8080/"
    },
    "executionInfo": {
     "elapsed": 507,
     "status": "ok",
     "timestamp": 1735918208915,
     "user": {
      "displayName": "Akarsh",
      "userId": "02423875687432954389"
     },
     "user_tz": -330
    },
    "id": "IHw9wCnrtJHh",
    "outputId": "f1b70c82-c0ec-4f1a-975b-8c20c9d17aa5"
   },
   "outputs": [
    {
     "name": "stdout",
     "output_type": "stream",
     "text": [
      "<class 'pandas.core.frame.DataFrame'>\n",
      "RangeIndex: 12000 entries, 0 to 11999\n",
      "Data columns (total 21 columns):\n",
      " #   Column      Non-Null Count  Dtype  \n",
      "---  ------      --------------  -----  \n",
      " 0   ID          12000 non-null  int64  \n",
      " 1   Feature_1   12000 non-null  float64\n",
      " 2   Feature_2   12000 non-null  float64\n",
      " 3   Feature_3   12000 non-null  float64\n",
      " 4   Feature_4   12000 non-null  float64\n",
      " 5   Feature_5   12000 non-null  float64\n",
      " 6   Feature_6   12000 non-null  float64\n",
      " 7   Feature_7   12000 non-null  float64\n",
      " 8   Feature_8   12000 non-null  float64\n",
      " 9   Feature_9   12000 non-null  float64\n",
      " 10  Feature_10  12000 non-null  float64\n",
      " 11  Feature_11  12000 non-null  float64\n",
      " 12  Feature_12  12000 non-null  float64\n",
      " 13  Feature_13  12000 non-null  float64\n",
      " 14  Feature_14  12000 non-null  float64\n",
      " 15  Feature_15  12000 non-null  float64\n",
      " 16  Feature_16  12000 non-null  float64\n",
      " 17  Feature_17  12000 non-null  float64\n",
      " 18  Feature_18  12000 non-null  float64\n",
      " 19  Feature_19  12000 non-null  float64\n",
      " 20  Feature_20  12000 non-null  float64\n",
      "dtypes: float64(20), int64(1)\n",
      "memory usage: 1.9 MB\n"
     ]
    }
   ],
   "source": [
    "df_test.info()"
   ]
  },
  {
   "cell_type": "code",
   "execution_count": 43,
   "metadata": {
    "colab": {
     "base_uri": "https://localhost:8080/",
     "height": 0
    },
    "executionInfo": {
     "elapsed": 24,
     "status": "ok",
     "timestamp": 1735918208916,
     "user": {
      "displayName": "Akarsh",
      "userId": "02423875687432954389"
     },
     "user_tz": -330
    },
    "id": "dIm5wV-ktMJv",
    "outputId": "40430c07-aba1-48c6-993a-3fe5372c470c"
   },
   "outputs": [
    {
     "data": {
      "application/vnd.google.colaboratory.intrinsic+json": {
       "type": "dataframe"
      },
      "text/html": [
       "\n",
       "  <div id=\"df-29108e4a-c959-470a-85ca-fd1583b199f1\" class=\"colab-df-container\">\n",
       "    <div>\n",
       "<style scoped>\n",
       "    .dataframe tbody tr th:only-of-type {\n",
       "        vertical-align: middle;\n",
       "    }\n",
       "\n",
       "    .dataframe tbody tr th {\n",
       "        vertical-align: top;\n",
       "    }\n",
       "\n",
       "    .dataframe thead th {\n",
       "        text-align: right;\n",
       "    }\n",
       "</style>\n",
       "<table border=\"1\" class=\"dataframe\">\n",
       "  <thead>\n",
       "    <tr style=\"text-align: right;\">\n",
       "      <th></th>\n",
       "      <th>ID</th>\n",
       "      <th>Feature_1</th>\n",
       "      <th>Feature_2</th>\n",
       "      <th>Feature_3</th>\n",
       "      <th>Feature_4</th>\n",
       "      <th>Feature_5</th>\n",
       "      <th>Feature_6</th>\n",
       "      <th>Feature_7</th>\n",
       "      <th>Feature_8</th>\n",
       "      <th>Feature_9</th>\n",
       "      <th>...</th>\n",
       "      <th>Feature_11</th>\n",
       "      <th>Feature_12</th>\n",
       "      <th>Feature_13</th>\n",
       "      <th>Feature_14</th>\n",
       "      <th>Feature_15</th>\n",
       "      <th>Feature_16</th>\n",
       "      <th>Feature_17</th>\n",
       "      <th>Feature_18</th>\n",
       "      <th>Feature_19</th>\n",
       "      <th>Feature_20</th>\n",
       "    </tr>\n",
       "  </thead>\n",
       "  <tbody>\n",
       "    <tr>\n",
       "      <th>count</th>\n",
       "      <td>12000.00000</td>\n",
       "      <td>12000.000000</td>\n",
       "      <td>12000.000000</td>\n",
       "      <td>12000.000000</td>\n",
       "      <td>12000.000000</td>\n",
       "      <td>12000.000000</td>\n",
       "      <td>12000.000000</td>\n",
       "      <td>12000.000000</td>\n",
       "      <td>12000.000000</td>\n",
       "      <td>12000.000000</td>\n",
       "      <td>...</td>\n",
       "      <td>12000.000000</td>\n",
       "      <td>12000.000000</td>\n",
       "      <td>12000.000000</td>\n",
       "      <td>12000.000000</td>\n",
       "      <td>12000.000000</td>\n",
       "      <td>12000.000000</td>\n",
       "      <td>12000.000000</td>\n",
       "      <td>12000.000000</td>\n",
       "      <td>12000.000000</td>\n",
       "      <td>12000.000000</td>\n",
       "    </tr>\n",
       "    <tr>\n",
       "      <th>mean</th>\n",
       "      <td>6000.50000</td>\n",
       "      <td>-32.694100</td>\n",
       "      <td>-87.793625</td>\n",
       "      <td>92.050522</td>\n",
       "      <td>-47.885149</td>\n",
       "      <td>87.098926</td>\n",
       "      <td>61.716706</td>\n",
       "      <td>-18.657532</td>\n",
       "      <td>-39.648557</td>\n",
       "      <td>-135.230991</td>\n",
       "      <td>...</td>\n",
       "      <td>-3.875381</td>\n",
       "      <td>-61.595974</td>\n",
       "      <td>9.833551</td>\n",
       "      <td>-58.136925</td>\n",
       "      <td>142.726517</td>\n",
       "      <td>-25.334467</td>\n",
       "      <td>-35.671684</td>\n",
       "      <td>112.713956</td>\n",
       "      <td>-53.807774</td>\n",
       "      <td>-83.801262</td>\n",
       "    </tr>\n",
       "    <tr>\n",
       "      <th>std</th>\n",
       "      <td>3464.24595</td>\n",
       "      <td>4.706072</td>\n",
       "      <td>45.291027</td>\n",
       "      <td>38.988333</td>\n",
       "      <td>103.643497</td>\n",
       "      <td>27.157730</td>\n",
       "      <td>99.739294</td>\n",
       "      <td>18.054624</td>\n",
       "      <td>9.883057</td>\n",
       "      <td>56.188726</td>\n",
       "      <td>...</td>\n",
       "      <td>27.956033</td>\n",
       "      <td>44.709294</td>\n",
       "      <td>5.530758</td>\n",
       "      <td>106.405981</td>\n",
       "      <td>152.040533</td>\n",
       "      <td>51.894349</td>\n",
       "      <td>46.697107</td>\n",
       "      <td>71.020230</td>\n",
       "      <td>30.138250</td>\n",
       "      <td>4.512498</td>\n",
       "    </tr>\n",
       "    <tr>\n",
       "      <th>min</th>\n",
       "      <td>1.00000</td>\n",
       "      <td>-50.836544</td>\n",
       "      <td>-237.353079</td>\n",
       "      <td>-57.569326</td>\n",
       "      <td>-356.950981</td>\n",
       "      <td>-18.818545</td>\n",
       "      <td>-161.888733</td>\n",
       "      <td>-84.505492</td>\n",
       "      <td>-74.532857</td>\n",
       "      <td>-381.854310</td>\n",
       "      <td>...</td>\n",
       "      <td>-118.403267</td>\n",
       "      <td>-225.734491</td>\n",
       "      <td>-11.995986</td>\n",
       "      <td>-391.559801</td>\n",
       "      <td>-382.788514</td>\n",
       "      <td>-227.104124</td>\n",
       "      <td>-166.048209</td>\n",
       "      <td>-191.457396</td>\n",
       "      <td>-197.934819</td>\n",
       "      <td>-102.538542</td>\n",
       "    </tr>\n",
       "    <tr>\n",
       "      <th>25%</th>\n",
       "      <td>3000.75000</td>\n",
       "      <td>-35.881466</td>\n",
       "      <td>-118.125686</td>\n",
       "      <td>66.423527</td>\n",
       "      <td>-127.182095</td>\n",
       "      <td>68.522705</td>\n",
       "      <td>-9.499763</td>\n",
       "      <td>-30.704689</td>\n",
       "      <td>-46.400586</td>\n",
       "      <td>-171.870592</td>\n",
       "      <td>...</td>\n",
       "      <td>-22.516296</td>\n",
       "      <td>-91.792337</td>\n",
       "      <td>6.129252</td>\n",
       "      <td>-142.839901</td>\n",
       "      <td>12.590836</td>\n",
       "      <td>-56.760628</td>\n",
       "      <td>-73.579521</td>\n",
       "      <td>77.288847</td>\n",
       "      <td>-70.171482</td>\n",
       "      <td>-86.821288</td>\n",
       "    </tr>\n",
       "    <tr>\n",
       "      <th>50%</th>\n",
       "      <td>6000.50000</td>\n",
       "      <td>-32.744446</td>\n",
       "      <td>-87.778015</td>\n",
       "      <td>92.371840</td>\n",
       "      <td>-50.451784</td>\n",
       "      <td>87.427795</td>\n",
       "      <td>32.086307</td>\n",
       "      <td>-18.553565</td>\n",
       "      <td>-39.744492</td>\n",
       "      <td>-134.893079</td>\n",
       "      <td>...</td>\n",
       "      <td>-3.810355</td>\n",
       "      <td>-61.530909</td>\n",
       "      <td>9.775596</td>\n",
       "      <td>-60.254615</td>\n",
       "      <td>152.307929</td>\n",
       "      <td>-20.080260</td>\n",
       "      <td>-34.070059</td>\n",
       "      <td>122.880880</td>\n",
       "      <td>-49.944596</td>\n",
       "      <td>-83.855696</td>\n",
       "    </tr>\n",
       "    <tr>\n",
       "      <th>75%</th>\n",
       "      <td>9000.25000</td>\n",
       "      <td>-29.558680</td>\n",
       "      <td>-57.834894</td>\n",
       "      <td>118.159953</td>\n",
       "      <td>31.396488</td>\n",
       "      <td>105.282510</td>\n",
       "      <td>127.459725</td>\n",
       "      <td>-6.621853</td>\n",
       "      <td>-33.010513</td>\n",
       "      <td>-98.280201</td>\n",
       "      <td>...</td>\n",
       "      <td>14.734082</td>\n",
       "      <td>-31.353838</td>\n",
       "      <td>13.542368</td>\n",
       "      <td>25.647046</td>\n",
       "      <td>257.524078</td>\n",
       "      <td>10.371849</td>\n",
       "      <td>-4.491852</td>\n",
       "      <td>160.989126</td>\n",
       "      <td>-33.547288</td>\n",
       "      <td>-80.784963</td>\n",
       "    </tr>\n",
       "    <tr>\n",
       "      <th>max</th>\n",
       "      <td>12000.00000</td>\n",
       "      <td>-13.096776</td>\n",
       "      <td>84.174260</td>\n",
       "      <td>233.475994</td>\n",
       "      <td>272.281005</td>\n",
       "      <td>188.590719</td>\n",
       "      <td>475.142638</td>\n",
       "      <td>45.120624</td>\n",
       "      <td>2.192297</td>\n",
       "      <td>98.142329</td>\n",
       "      <td>...</td>\n",
       "      <td>101.852663</td>\n",
       "      <td>102.135092</td>\n",
       "      <td>33.394874</td>\n",
       "      <td>268.295753</td>\n",
       "      <td>771.086837</td>\n",
       "      <td>133.094546</td>\n",
       "      <td>140.720359</td>\n",
       "      <td>356.153539</td>\n",
       "      <td>47.105939</td>\n",
       "      <td>-67.339999</td>\n",
       "    </tr>\n",
       "  </tbody>\n",
       "</table>\n",
       "<p>8 rows × 21 columns</p>\n",
       "</div>\n",
       "    <div class=\"colab-df-buttons\">\n",
       "\n",
       "  <div class=\"colab-df-container\">\n",
       "    <button class=\"colab-df-convert\" onclick=\"convertToInteractive('df-29108e4a-c959-470a-85ca-fd1583b199f1')\"\n",
       "            title=\"Convert this dataframe to an interactive table.\"\n",
       "            style=\"display:none;\">\n",
       "\n",
       "  <svg xmlns=\"http://www.w3.org/2000/svg\" height=\"24px\" viewBox=\"0 -960 960 960\">\n",
       "    <path d=\"M120-120v-720h720v720H120Zm60-500h600v-160H180v160Zm220 220h160v-160H400v160Zm0 220h160v-160H400v160ZM180-400h160v-160H180v160Zm440 0h160v-160H620v160ZM180-180h160v-160H180v160Zm440 0h160v-160H620v160Z\"/>\n",
       "  </svg>\n",
       "    </button>\n",
       "\n",
       "  <style>\n",
       "    .colab-df-container {\n",
       "      display:flex;\n",
       "      gap: 12px;\n",
       "    }\n",
       "\n",
       "    .colab-df-convert {\n",
       "      background-color: #E8F0FE;\n",
       "      border: none;\n",
       "      border-radius: 50%;\n",
       "      cursor: pointer;\n",
       "      display: none;\n",
       "      fill: #1967D2;\n",
       "      height: 32px;\n",
       "      padding: 0 0 0 0;\n",
       "      width: 32px;\n",
       "    }\n",
       "\n",
       "    .colab-df-convert:hover {\n",
       "      background-color: #E2EBFA;\n",
       "      box-shadow: 0px 1px 2px rgba(60, 64, 67, 0.3), 0px 1px 3px 1px rgba(60, 64, 67, 0.15);\n",
       "      fill: #174EA6;\n",
       "    }\n",
       "\n",
       "    .colab-df-buttons div {\n",
       "      margin-bottom: 4px;\n",
       "    }\n",
       "\n",
       "    [theme=dark] .colab-df-convert {\n",
       "      background-color: #3B4455;\n",
       "      fill: #D2E3FC;\n",
       "    }\n",
       "\n",
       "    [theme=dark] .colab-df-convert:hover {\n",
       "      background-color: #434B5C;\n",
       "      box-shadow: 0px 1px 3px 1px rgba(0, 0, 0, 0.15);\n",
       "      filter: drop-shadow(0px 1px 2px rgba(0, 0, 0, 0.3));\n",
       "      fill: #FFFFFF;\n",
       "    }\n",
       "  </style>\n",
       "\n",
       "    <script>\n",
       "      const buttonEl =\n",
       "        document.querySelector('#df-29108e4a-c959-470a-85ca-fd1583b199f1 button.colab-df-convert');\n",
       "      buttonEl.style.display =\n",
       "        google.colab.kernel.accessAllowed ? 'block' : 'none';\n",
       "\n",
       "      async function convertToInteractive(key) {\n",
       "        const element = document.querySelector('#df-29108e4a-c959-470a-85ca-fd1583b199f1');\n",
       "        const dataTable =\n",
       "          await google.colab.kernel.invokeFunction('convertToInteractive',\n",
       "                                                    [key], {});\n",
       "        if (!dataTable) return;\n",
       "\n",
       "        const docLinkHtml = 'Like what you see? Visit the ' +\n",
       "          '<a target=\"_blank\" href=https://colab.research.google.com/notebooks/data_table.ipynb>data table notebook</a>'\n",
       "          + ' to learn more about interactive tables.';\n",
       "        element.innerHTML = '';\n",
       "        dataTable['output_type'] = 'display_data';\n",
       "        await google.colab.output.renderOutput(dataTable, element);\n",
       "        const docLink = document.createElement('div');\n",
       "        docLink.innerHTML = docLinkHtml;\n",
       "        element.appendChild(docLink);\n",
       "      }\n",
       "    </script>\n",
       "  </div>\n",
       "\n",
       "\n",
       "<div id=\"df-3aa4617e-fe0e-48d7-8a2d-7390375854a5\">\n",
       "  <button class=\"colab-df-quickchart\" onclick=\"quickchart('df-3aa4617e-fe0e-48d7-8a2d-7390375854a5')\"\n",
       "            title=\"Suggest charts\"\n",
       "            style=\"display:none;\">\n",
       "\n",
       "<svg xmlns=\"http://www.w3.org/2000/svg\" height=\"24px\"viewBox=\"0 0 24 24\"\n",
       "     width=\"24px\">\n",
       "    <g>\n",
       "        <path d=\"M19 3H5c-1.1 0-2 .9-2 2v14c0 1.1.9 2 2 2h14c1.1 0 2-.9 2-2V5c0-1.1-.9-2-2-2zM9 17H7v-7h2v7zm4 0h-2V7h2v10zm4 0h-2v-4h2v4z\"/>\n",
       "    </g>\n",
       "</svg>\n",
       "  </button>\n",
       "\n",
       "<style>\n",
       "  .colab-df-quickchart {\n",
       "      --bg-color: #E8F0FE;\n",
       "      --fill-color: #1967D2;\n",
       "      --hover-bg-color: #E2EBFA;\n",
       "      --hover-fill-color: #174EA6;\n",
       "      --disabled-fill-color: #AAA;\n",
       "      --disabled-bg-color: #DDD;\n",
       "  }\n",
       "\n",
       "  [theme=dark] .colab-df-quickchart {\n",
       "      --bg-color: #3B4455;\n",
       "      --fill-color: #D2E3FC;\n",
       "      --hover-bg-color: #434B5C;\n",
       "      --hover-fill-color: #FFFFFF;\n",
       "      --disabled-bg-color: #3B4455;\n",
       "      --disabled-fill-color: #666;\n",
       "  }\n",
       "\n",
       "  .colab-df-quickchart {\n",
       "    background-color: var(--bg-color);\n",
       "    border: none;\n",
       "    border-radius: 50%;\n",
       "    cursor: pointer;\n",
       "    display: none;\n",
       "    fill: var(--fill-color);\n",
       "    height: 32px;\n",
       "    padding: 0;\n",
       "    width: 32px;\n",
       "  }\n",
       "\n",
       "  .colab-df-quickchart:hover {\n",
       "    background-color: var(--hover-bg-color);\n",
       "    box-shadow: 0 1px 2px rgba(60, 64, 67, 0.3), 0 1px 3px 1px rgba(60, 64, 67, 0.15);\n",
       "    fill: var(--button-hover-fill-color);\n",
       "  }\n",
       "\n",
       "  .colab-df-quickchart-complete:disabled,\n",
       "  .colab-df-quickchart-complete:disabled:hover {\n",
       "    background-color: var(--disabled-bg-color);\n",
       "    fill: var(--disabled-fill-color);\n",
       "    box-shadow: none;\n",
       "  }\n",
       "\n",
       "  .colab-df-spinner {\n",
       "    border: 2px solid var(--fill-color);\n",
       "    border-color: transparent;\n",
       "    border-bottom-color: var(--fill-color);\n",
       "    animation:\n",
       "      spin 1s steps(1) infinite;\n",
       "  }\n",
       "\n",
       "  @keyframes spin {\n",
       "    0% {\n",
       "      border-color: transparent;\n",
       "      border-bottom-color: var(--fill-color);\n",
       "      border-left-color: var(--fill-color);\n",
       "    }\n",
       "    20% {\n",
       "      border-color: transparent;\n",
       "      border-left-color: var(--fill-color);\n",
       "      border-top-color: var(--fill-color);\n",
       "    }\n",
       "    30% {\n",
       "      border-color: transparent;\n",
       "      border-left-color: var(--fill-color);\n",
       "      border-top-color: var(--fill-color);\n",
       "      border-right-color: var(--fill-color);\n",
       "    }\n",
       "    40% {\n",
       "      border-color: transparent;\n",
       "      border-right-color: var(--fill-color);\n",
       "      border-top-color: var(--fill-color);\n",
       "    }\n",
       "    60% {\n",
       "      border-color: transparent;\n",
       "      border-right-color: var(--fill-color);\n",
       "    }\n",
       "    80% {\n",
       "      border-color: transparent;\n",
       "      border-right-color: var(--fill-color);\n",
       "      border-bottom-color: var(--fill-color);\n",
       "    }\n",
       "    90% {\n",
       "      border-color: transparent;\n",
       "      border-bottom-color: var(--fill-color);\n",
       "    }\n",
       "  }\n",
       "</style>\n",
       "\n",
       "  <script>\n",
       "    async function quickchart(key) {\n",
       "      const quickchartButtonEl =\n",
       "        document.querySelector('#' + key + ' button');\n",
       "      quickchartButtonEl.disabled = true;  // To prevent multiple clicks.\n",
       "      quickchartButtonEl.classList.add('colab-df-spinner');\n",
       "      try {\n",
       "        const charts = await google.colab.kernel.invokeFunction(\n",
       "            'suggestCharts', [key], {});\n",
       "      } catch (error) {\n",
       "        console.error('Error during call to suggestCharts:', error);\n",
       "      }\n",
       "      quickchartButtonEl.classList.remove('colab-df-spinner');\n",
       "      quickchartButtonEl.classList.add('colab-df-quickchart-complete');\n",
       "    }\n",
       "    (() => {\n",
       "      let quickchartButtonEl =\n",
       "        document.querySelector('#df-3aa4617e-fe0e-48d7-8a2d-7390375854a5 button');\n",
       "      quickchartButtonEl.style.display =\n",
       "        google.colab.kernel.accessAllowed ? 'block' : 'none';\n",
       "    })();\n",
       "  </script>\n",
       "</div>\n",
       "\n",
       "    </div>\n",
       "  </div>\n"
      ],
      "text/plain": [
       "                ID     Feature_1     Feature_2     Feature_3     Feature_4  \\\n",
       "count  12000.00000  12000.000000  12000.000000  12000.000000  12000.000000   \n",
       "mean    6000.50000    -32.694100    -87.793625     92.050522    -47.885149   \n",
       "std     3464.24595      4.706072     45.291027     38.988333    103.643497   \n",
       "min        1.00000    -50.836544   -237.353079    -57.569326   -356.950981   \n",
       "25%     3000.75000    -35.881466   -118.125686     66.423527   -127.182095   \n",
       "50%     6000.50000    -32.744446    -87.778015     92.371840    -50.451784   \n",
       "75%     9000.25000    -29.558680    -57.834894    118.159953     31.396488   \n",
       "max    12000.00000    -13.096776     84.174260    233.475994    272.281005   \n",
       "\n",
       "          Feature_5     Feature_6     Feature_7     Feature_8     Feature_9  \\\n",
       "count  12000.000000  12000.000000  12000.000000  12000.000000  12000.000000   \n",
       "mean      87.098926     61.716706    -18.657532    -39.648557   -135.230991   \n",
       "std       27.157730     99.739294     18.054624      9.883057     56.188726   \n",
       "min      -18.818545   -161.888733    -84.505492    -74.532857   -381.854310   \n",
       "25%       68.522705     -9.499763    -30.704689    -46.400586   -171.870592   \n",
       "50%       87.427795     32.086307    -18.553565    -39.744492   -134.893079   \n",
       "75%      105.282510    127.459725     -6.621853    -33.010513    -98.280201   \n",
       "max      188.590719    475.142638     45.120624      2.192297     98.142329   \n",
       "\n",
       "       ...    Feature_11    Feature_12    Feature_13    Feature_14  \\\n",
       "count  ...  12000.000000  12000.000000  12000.000000  12000.000000   \n",
       "mean   ...     -3.875381    -61.595974      9.833551    -58.136925   \n",
       "std    ...     27.956033     44.709294      5.530758    106.405981   \n",
       "min    ...   -118.403267   -225.734491    -11.995986   -391.559801   \n",
       "25%    ...    -22.516296    -91.792337      6.129252   -142.839901   \n",
       "50%    ...     -3.810355    -61.530909      9.775596    -60.254615   \n",
       "75%    ...     14.734082    -31.353838     13.542368     25.647046   \n",
       "max    ...    101.852663    102.135092     33.394874    268.295753   \n",
       "\n",
       "         Feature_15    Feature_16    Feature_17    Feature_18    Feature_19  \\\n",
       "count  12000.000000  12000.000000  12000.000000  12000.000000  12000.000000   \n",
       "mean     142.726517    -25.334467    -35.671684    112.713956    -53.807774   \n",
       "std      152.040533     51.894349     46.697107     71.020230     30.138250   \n",
       "min     -382.788514   -227.104124   -166.048209   -191.457396   -197.934819   \n",
       "25%       12.590836    -56.760628    -73.579521     77.288847    -70.171482   \n",
       "50%      152.307929    -20.080260    -34.070059    122.880880    -49.944596   \n",
       "75%      257.524078     10.371849     -4.491852    160.989126    -33.547288   \n",
       "max      771.086837    133.094546    140.720359    356.153539     47.105939   \n",
       "\n",
       "         Feature_20  \n",
       "count  12000.000000  \n",
       "mean     -83.801262  \n",
       "std        4.512498  \n",
       "min     -102.538542  \n",
       "25%      -86.821288  \n",
       "50%      -83.855696  \n",
       "75%      -80.784963  \n",
       "max      -67.339999  \n",
       "\n",
       "[8 rows x 21 columns]"
      ]
     },
     "execution_count": 43,
     "metadata": {},
     "output_type": "execute_result"
    }
   ],
   "source": [
    "df_test.describe()"
   ]
  },
  {
   "cell_type": "code",
   "execution_count": 44,
   "metadata": {
    "colab": {
     "base_uri": "https://localhost:8080/"
    },
    "executionInfo": {
     "elapsed": 21,
     "status": "ok",
     "timestamp": 1735918208916,
     "user": {
      "displayName": "Akarsh",
      "userId": "02423875687432954389"
     },
     "user_tz": -330
    },
    "id": "ZHGWr8yWSQed",
    "outputId": "90e86f90-0f6e-4206-d500-56a235329a14"
   },
   "outputs": [
    {
     "name": "stdout",
     "output_type": "stream",
     "text": [
      "(12000, 20)\n"
     ]
    }
   ],
   "source": [
    "X_test = np.array(df_test.iloc[:, 1:21])\n",
    "X_test[0,:]\n",
    "X_test,_,_ = lnr.normalize(X_test, Xmean_train, Xstd_train)\n",
    "print(np.shape(X_test))"
   ]
  },
  {
   "cell_type": "code",
   "execution_count": 45,
   "metadata": {
    "colab": {
     "base_uri": "https://localhost:8080/"
    },
    "executionInfo": {
     "elapsed": 20,
     "status": "ok",
     "timestamp": 1735918208917,
     "user": {
      "displayName": "Akarsh",
      "userId": "02423875687432954389"
     },
     "user_tz": -330
    },
    "id": "usqaHXNSSzxK",
    "outputId": "f171fce1-2ae5-436f-9993-35d9ef17e02a"
   },
   "outputs": [
    {
     "data": {
      "text/plain": [
       "array([0.04331596, 0.25662164, 0.02613454, ..., 0.23704642, 0.87350311,\n",
       "       0.02430633])"
      ]
     },
     "execution_count": 45,
     "metadata": {},
     "output_type": "execute_result"
    }
   ],
   "source": [
    "yhat_test = sigmoid(lnr.predict(X_test, w, b))\n",
    "yhat_test"
   ]
  },
  {
   "cell_type": "code",
   "execution_count": 46,
   "metadata": {
    "colab": {
     "base_uri": "https://localhost:8080/"
    },
    "executionInfo": {
     "elapsed": 18,
     "status": "ok",
     "timestamp": 1735918208917,
     "user": {
      "displayName": "Akarsh",
      "userId": "02423875687432954389"
     },
     "user_tz": -330
    },
    "id": "Pku3zYv0TWTE",
    "outputId": "b1ffaa97-869a-43bc-807c-c954825251f1"
   },
   "outputs": [
    {
     "data": {
      "text/plain": [
       "array([0, 0, 0, ..., 0, 1, 0])"
      ]
     },
     "execution_count": 46,
     "metadata": {},
     "output_type": "execute_result"
    }
   ],
   "source": [
    "y_pred_test = decision(yhat_test)\n",
    "y_pred_test"
   ]
  },
  {
   "cell_type": "code",
   "execution_count": 47,
   "metadata": {
    "colab": {
     "base_uri": "https://localhost:8080/",
     "height": 0
    },
    "executionInfo": {
     "elapsed": 17,
     "status": "ok",
     "timestamp": 1735918208917,
     "user": {
      "displayName": "Akarsh",
      "userId": "02423875687432954389"
     },
     "user_tz": -330
    },
    "id": "QF3UiqihTZdc",
    "outputId": "8a1d14a1-186a-4483-a4ca-88c7d2c48cbb"
   },
   "outputs": [
    {
     "data": {
      "text/html": [
       "<div>\n",
       "<style scoped>\n",
       "    .dataframe tbody tr th:only-of-type {\n",
       "        vertical-align: middle;\n",
       "    }\n",
       "\n",
       "    .dataframe tbody tr th {\n",
       "        vertical-align: top;\n",
       "    }\n",
       "\n",
       "    .dataframe thead th {\n",
       "        text-align: right;\n",
       "    }\n",
       "</style>\n",
       "<table border=\"1\" class=\"dataframe\">\n",
       "  <thead>\n",
       "    <tr style=\"text-align: right;\">\n",
       "      <th></th>\n",
       "      <th>count</th>\n",
       "    </tr>\n",
       "  </thead>\n",
       "  <tbody>\n",
       "    <tr>\n",
       "      <th>0</th>\n",
       "      <td>8466</td>\n",
       "    </tr>\n",
       "    <tr>\n",
       "      <th>1</th>\n",
       "      <td>3534</td>\n",
       "    </tr>\n",
       "  </tbody>\n",
       "</table>\n",
       "</div><br><label><b>dtype:</b> int64</label>"
      ],
      "text/plain": [
       "0    8466\n",
       "1    3534\n",
       "Name: count, dtype: int64"
      ]
     },
     "execution_count": 47,
     "metadata": {},
     "output_type": "execute_result"
    }
   ],
   "source": [
    "pd.Series(y_pred_test).value_counts()"
   ]
  },
  {
   "cell_type": "code",
   "execution_count": 47,
   "metadata": {
    "executionInfo": {
     "elapsed": 16,
     "status": "ok",
     "timestamp": 1735918208917,
     "user": {
      "displayName": "Akarsh",
      "userId": "02423875687432954389"
     },
     "user_tz": -330
    },
    "id": "0j2TUjH4TlyN"
   },
   "outputs": [],
   "source": []
  }
 ],
 "metadata": {
  "colab": {
   "authorship_tag": "ABX9TyP0GJzUC3xyjXZhyCokzy7C",
   "collapsed_sections": [
    "Yufh_ZsD3EiB",
    "HzYyXh7pjmpq"
   ],
   "provenance": []
  },
  "kernelspec": {
   "display_name": "Python 3",
   "name": "python3"
  },
  "language_info": {
   "codemirror_mode": {
    "name": "ipython",
    "version": 3
   },
   "file_extension": ".py",
   "mimetype": "text/x-python",
   "name": "python",
   "nbconvert_exporter": "python",
   "pygments_lexer": "ipython3",
   "version": "3.12.4"
  }
 },
 "nbformat": 4,
 "nbformat_minor": 0
}
